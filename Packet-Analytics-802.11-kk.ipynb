{
 "cells": [
  {
   "cell_type": "markdown",
   "metadata": {},
   "source": [
    "# Learning Packet Analysis with Scapy"
   ]
  },
  {
   "cell_type": "code",
   "execution_count": 2,
   "metadata": {},
   "outputs": [],
   "source": [
    "from scapy.all import * # Packet manipulation\n",
    "import pandas as pd # Pandas - Create and Manipulate DataFrames\n",
    "import numpy as np # Math Stuff (don't worry only used for one line :] )\n",
    "import binascii # Binary to Ascii \n",
    "import seaborn as sns\n",
    "sns.set(color_codes=True)\n",
    "%matplotlib inline\n",
    "\n"
   ]
  },
  {
   "cell_type": "markdown",
   "metadata": {},
   "source": [
    "### The line below will attempt to sniff 100 packets\n"
   ]
  },
  {
   "cell_type": "code",
   "execution_count": 3,
   "metadata": {},
   "outputs": [
    {
     "name": "stdout",
     "output_type": "stream",
     "text": [
      "<class 'scapy.plist.PacketList'>\n",
      "100\n",
      "<Sniffed: TCP:72 UDP:16 ICMP:0 Other:12>\n"
     ]
    },
    {
     "data": {
      "text/plain": [
       "<Ether  dst=00:0e:09:86:b4:53 src=00:5d:73:e4:20:07 type=IPv4 |<IP  version=4 ihl=5 tos=0x0 len=92 id=35062 flags=DF frag=0 ttl=63 proto=tcp chksum=0x84a src=74.125.24.189 dst=172.16.155.17 |<TCP  sport=https dport=49920 seq=1824547404 ack=2845824246 dataofs=5 reserved=0 flags=PA window=602 chksum=0x5bb3 urgptr=0 |<Raw  load='\\x17\\x03\\x03\\x00/\\\\xf5\\\\x86\\\\xd8\\\\xe0\\\\xac&\\\\xbe\\x0b\\\\xbbv\\\\xfd~\\x02\\\\xf4\\\\x82(&\\\\xd0\\\\xeb)\\\\x9a\\\\x983\\\\x90D\\\\xcc\\tFS*\\x0c\\\\xb2\\\\xb8\\\\xca@߅|/\\\\xd7j\\\\xf8\\\\xdc\\\\xdeo\\\\xb8b' |>>>>"
      ]
     },
     "execution_count": 3,
     "metadata": {},
     "output_type": "execute_result"
    }
   ],
   "source": [
    "num_of_packets_to_sniff = 100\n",
    "pcap = sniff(count=num_of_packets_to_sniff)\n",
    "pcap1 = sniff(count=num_of_packets_to_sniff)\n",
    "# rdpcap returns packet list\n",
    "## packetlist object can be enumerated \n",
    "print(type(pcap))\n",
    "print(len(pcap))\n",
    "print(pcap)\n",
    "pcap[0]"
   ]
  },
  {
   "cell_type": "markdown",
   "metadata": {},
   "source": [
    "# Append Krack/Kr00k pcap to current stream"
   ]
  },
  {
   "cell_type": "code",
   "execution_count": 4,
   "metadata": {},
   "outputs": [],
   "source": [
    "# rdpcap used to Read Pcap\n",
    "pcap = pcap +  rdpcap(\"krack_data_Ana.pcap\")\n",
    "pcap1 = pcap1 +  rdpcap(\"kr00k_data_Ana.pcap\")"
   ]
  },
  {
   "cell_type": "code",
   "execution_count": 5,
   "metadata": {},
   "outputs": [
    {
     "data": {
      "text/plain": [
       "<RadioTap  version=0 pad=0 len=56 present=Flags+Channel+dBm_AntSignal+RXFlags+MCS+A_MPDU+timestamp+RadiotapNS+Ext Ext=[<RadioTapExtendedPresenceMask  present=b5+b11+b29+Ext |>, <RadioTapExtendedPresenceMask  present=b37+b43 |>] Flags=FCS ChannelFrequency=2472 ChannelFlags=2GHz+Dynamic_CCK_OFDM dBm_AntSignal=-33 dBm RXFlags= knownMCS=guard_interval Ness_LSB=0 STBC_streams=0 FEC_type=BCC HT_format=mixed guard_interval=Long_GI MCS_bandwidth=20MHz MCS_index=0 A_MPDU_ref=0 A_MPDU_flags= timestamp=1171691223 ts_accuracy=22 ts_position=17 ts_flags=3 notdecoded='\\\\xdc\\x00\\\\xdf\\x01' |<Dot11FCS  subtype=QoS Data type=Data proto=0 FCfield=from-DS+retry+protected ID=12288 addr1=24:f5:a2:ea:86:c3 (RA=DA) addr2=0c:9d:92:54:fe:30 (TA=BSSID) addr3=0c:9d:92:54:fe:30 (SA) SC=41360 fcs=0x3da7c0a1 |<Dot11QoS  A_MSDU_Present=0 Ack_Policy=0 EOSP=0 TID=0 TXOP=0 |<Dot11CCMP  PN0=17 PN1=138 res0=0 key_id=0 ext_iv=1 res1=0 PN2=0 PN3=0 PN4=0 PN5=0 data='J\\\\xeb{\\\\x88\\n\\\\xfa\\\\xa5D]\\x0740\\\\xf4\\\\x8b\\\\x99\\\\xf1з\\\\xaf\\\\xf0\\x0e\\\\xea\\\\xb7\\x08{\\\\xd8Y\\x16$D\\\\x8a\\\\xe5\\\\x88\\x06\\\\xb1\\\\xf7\\\\xae5\\x1c\\'\\\\xd6\\\\\\\\xa7\\\\xcd\\\\xc9\\\\xd3=\\\\xeb\\\\xfd\\x05\\\\xe6`h\\x15/\\\\xae\\\\xa5а\\\\x9eZ(\\\\xa9\\\\xa2\\\\xcc\\\\xec\\\\xba-5\\\\xc9N@\\\\xaa!\\\\xd4֗\\\\x83a\\\\xbc3\\\\xed\\\\xcb\\x17\\x00hw\\\\x8d\\\\xbe,7Ee\\\\xf3Y\\\\x9dɐ@\\\\xd8\\'\\\\xc5\\\\xea\\x00Z\\x1f\\\\x82\\\\xfd\\\\xf0\\\\xbd)k-\\\\xbe\\x0cϐP\\\\xbb\\\\xfc\\\\x9ctk㞯\\\\xf8u\\\\xfe\\\\xcfL\\\\xb8\\\\xa5E\\\\xa9\\\\xedd\\x0b\\x05\\\\xf3_ \\\\x96\\\\xcf\\x1c\\\\xf5\\\\xf17ȋ\\x17\\x08\\\\x9c\\\\xa0~2`\\\\xeb^\\x07\\\\xa3\\x1c\\\\xc6\\\\xce\\\\xf1\\\\xee\\\\xf3л-\\\\xddC\\\\x8c2\\\\x9dx4\\x07\\\\x9d\\\\xb6>T\\\\xa7\\\\xc8[\\x10p\\\\x87\\n\\\\xb3J\\\\xfcY\\\\xb7}r\\\\xbc\\x1d\\\\xf36\\\\xaa,Z{\\\\xcd\\x05\\\\xa5C\\x1e5\\\\x93\\x110\\\\xc2p\\\\xa6\\\\xb0`@\\x10#\\\\xc0菸\\\\xdcr\\\\xcb^\\\\xe0\\x0be\\\\x9c\\x1f\\\\xa3\\\\x9a\\x12\\\\xd4x\\\\xc9\\'\\\\xd4G\\\\x896K\\\\xf5FY4\\\\xdbMQё\\\\xb0X\\\\x82na\\x13\\n\\\\xd6Z)t\\\\xf4\\\\xbb\\x128\\\\x90;\\x04\\\\xac\\\\xc5>\\\\x93\\\\x83\\\\xd41\\\\xa0d\\\\x9d\\\\xc7n\\\\x9c\\x19\\\\xad\\x04aC\\\\x80,\\x0e\\\\xb2\\\\xef\\\\xa1\\x11\\\\xbb\\\\xa9t\\\\xa4X\\x19\\\\xb9\\\\xe8Z\\\\xebP\\\\xf4\\x13\\\\xbb\\\\xee\\\\xa0k>\\x1bV*N\\\\xbd\\\\xfc\\\\x94F\\\\xe6ES\\\\xd0!\\\\xaa\\x19WM\\\\x92\\\\x98ޣӣ\\\\x89\\\\x9d\\\\xfc\\\\xe7\\\\xdah\\x00T\\\\xfbM0\\x03?MJ\\\\x8eP\\\\xe8s\\\\xbd\\\\xdf-S\\\\xab%g\\\\xed&\\\\xe4^Á\\\\x9c\\x100\\x13\\\\xe4|\\x02U\\\\xfb \\\\xf5[\\\\xe4\\x1c\\\\xd7J$r~\\\\xa1]\\\\xf0n6#\\x11\\\\xf9\\\\xc8~m\\\\xb5\\\\x83\\t\\\\xe0\\\\x93*\\\\xc1e\\x07N\\\\xf3:}\\\\xfc\\x16\\x08\\\\x88\\\\xac/\\\\xab\\\\x980\\x12\\\\xb7\\\\x9c\\x0c\\\\x8c\\\\xb5C\\\\xfbz\\\\xd6\\tC\\\\xd0h\\\\xa0G\\\\xa3\\x18\\\\xaa\\\\xc8\\x7ff\\\\xeb\\x1ab\\\\xab\\\\xb8-\\\\xae\\\\xd4\\\\xe5\\x01UR]\\\\xfe\\\\x883\\\\x8a\\\\x8a\\\\x8a\\\\xd4\\\\xe8\\x00\\\\x9eҨH\\\\xba\\\\xde\\\\xdb\\\\xd4\\\\xcbiR1\\x03P\\\\xb4Q\\r^\\\\x87\\\\xd1\\\\xe6\\\\xe0Z\\x1d\\x11%t\\\\x9aad\\\\xbf\\\\x8f㉰߶\\\\x99\\x18=7\\\\xf8\\x0eB\\\\xad?\\\\xb5\\\\xba\\\\xd6 x#\\\\xd6O\\\\xccOGa\\n\\\\xe1\\\\xf9E0\\\\x9cΑ\\\\xe30c\\\\xb6\\\\x942\\\\xfem\\\\xe12\\\\x8ap\\\\xa4\\\\xb9r\\\\x88\\\\xed\\\\xcdX^\\x05\\\\x9b\\\\x84\\x1fYd\\\\xc4\\\\xcf\\\\xed\\\\xa5\\\\xa9\\\\xa1\\x196\\\\xb6\\\\xa6,\\x1eOt\\x12\\\\x97\\\\x8d\\\\xc8\\\\xd4\\\\xfe\\\\xc9\\\\xf7\\\\xf4\\\\xcerH-\\\\xed\\\\x9e>>\\\\xa2\\\\x9c}Y\\\\x8a\\\\x8f\\\\xa5KW@\\\\x9dw\\\\x89piEM\\\\xc5\\x15\\\\x95\\\\\\x16U\\x01<+f\\\\x81\\\\xb8Œ\\\\xd9\\\\xe8\\\\xd85\\\\x96\\\\xbf\\\\x85%\\\\xebBGU\\\\x9awS\\x17\\\\xe5N\\\\x9d\\\\xf0tWx\\\\x86\\\\xfe\\x14\\x1di舩\\\\x8a\\\\xf6h\\\\xa5T\\\\xae\\\\x81n\\x7f\\\\xf6IO\\\\x8e\\\\xd8\\\\xe39\\\\xb7\\\\x9cNp\\x0chg!\\\\xc7$\\\\xa1\\\\xabEy\\\\xe5s\\\\xe0\\\\xf3\\\\xe1&U\\\\x91%\\\\xba\\\\xd7\\\\xd0$\\\\xdfh\\\\xb1\\\\xe0\\\\x9e\\t\\\\x8c\\\\xfemU\\x19\\\\xee\\x7f\\\\xff\\x0e\\\\x8a\\\\xba\\x08\\\\xb9]H\\\\xe7q\\\\x89\\\\x94%\\\\xb2\\x11\\\\xf1\\\\xe1u.AH\\\\xcc\\\\xfe\\\\xd5\\\\xcfVUi<\\\\xb0\\\\x8c\\\\xdd\\x1a~A\\r_\\\\x90i\\\\xeeO\\x1c\\\\x97]\\\\xb6(\\x0e\\\\xf7\\\\xc1\\\\x80\\\\xc6\\x14\\\\\\\\xc34n\\\\xb1\\\\xff\\x01I\\\\xc0\\x04U\\\\xdd\\\\xff\\x04\\\\xbdxE\\\\xf6t>\\\\xf6M\\\\xa8\\\\xcc\\x05\\\\xcb\\x11n\\\\xc54\\\\xab\\\\xb8\\\\xa6\\\\xfamF?s\\\\xa7\\\\x8c\\\\x887\\x05\\x1e\\\\xf3\\x05\\x0eu\\\\xb5\\\\x8e\\\\xee\\\\xac+\\\\xbd\\xad\\\\x82\\\\xe6\\\\xaf,xSw\\\\xcd\\\\xd7\\x1c\\\\x80qP3\\\\xd7zK\\\\xc1\\\\xc3\\\\xf8\\\\xfe)X\\\\xac\\\\xf4\\\\xe7\\x0cE\\\\x94ge\\\\xf1\\\\xc8?ĝUH\\\\xae_-\\\\xe2K\\\\xfe2\\x13\\\\x9dRE\\\\xd4j1+\\\\xbf\\x01(\\\\xe4\\\\xf0\\\\xcb\\x0c\\r\\\\xe3\\n\\\\xabP\\\\xfd\\x17\\\\xd56e\\x11\\\\xef\\\\xe6\\\\xe7]\\\\x8fo\\\\xb4\\\\xd3}\\x19\"\\\\xd9\\x12\\\\xd8\\\\xdd\\x7fN\\\\xa8\\\\x80Z\\\\x88\\\\x9cKb\\\\xf4T)\\\\xebƏHū<\\x1d˕\\\\x9c\\\\x8d\\x06T΅)N<\\\\xadQQL\\x1c%l\\\\\\\\x88V[\\\\xe3ۥ\\\\xc3\\\\xca\\r\\\\x96F\\\\xd1\\\\xc6!\\\\x82\\\\xf8\\n\\\\x8e\\\\xdb\\x10\\\\x84\\x08p\\\\xddH>\\\\xa4\\x17\\\\xe2\\\\xea\\\\x99\\\\xc8D\\\\xe4UƲ[һ\\\\xad\\\\x8dp\\\\xa3\\\\xba\\\\xa6c\\\\xef&\\x10G\\\\xdbo\\r\\\\xf7\\rZ>\\\\\\\\x82\\\\xa8?\\\\xbb\\\\xf8ʦ\\\\xebk\\\\xe2=ǅ\\\\xb5V2\\x1d\\\\xd6\\\\xd6k\\\\xd0ȘNhB8\\\\xe5[\\\\xa6m\\x00\\x05\\\\xbb\\\\xb9ا\\\\xda\\x1a\\\\xf4oS\\t\\\\xf9(q@\\\\xe3\\x1b2Ջ\\x03\\\\xd6a\\x02\\\\xbdk\\\\xf0l\\\\xc0U\\\\xec(\\n.Gf\\\\xb9>b\\\\xecɁ,\\\\x80TA[\\\\x99\\x19\\x03U\"\\\\xb4e\\x03\\\\xc9\\\\xe5h!\\\\\\\\xfb\\\\xbew\\\\x90\\\\xdb\\\\xe1\\\\x88\\\\xe8\\\\xc5A\\x0f\\\\x9cTf\\\\xea\\\\xaf.\\\\xf7S\\\\x9c\\x18&\\u1778\\\\\\u05ca\\\\xa63\\x0b\\\\xb6Hvf\\\\x87\\\\x9f6\\'\\'\\x1em-\\x03U\\\\xb7A\\x0e\\\\x8b\\x12\\x1bi2r\\x11\\\\xcc\\x02\\\\xdah#\\\\xe1\\\\x8dSe]\\\\xdfʬ\\\\xbc*9oe\\x1e\\\\x92蛧2\\\\x9cpO\\\\xc1\\\\xcf\\x08x\\\\xedL@\\\\xd69\\\\xc5\\\\xe06\\x1f\\x0c\\\\x82qJ\\\\xa6\\\\x87\\\\x87\\\\xe1\\\\xe0\\\\xb3\\x01\\x15X6\\\\xaa\\\\xa1+Կ\\x07m\\x17Y\\\\xf0\\\\xaa\\\\x8f\\\\xeaɶ\\x058%\\\\xb6\\\\xe9N\\x1b\\\\xbd\\x1c\\\\x9c\\\\xb2\\\\xfc\\\\xae\\\\x98\\\\xa6\\r\\\\xecz\\x11\\\\x90Z\\x16\\\\x91\\x7f\\\\xb4\\\\xa2}\\\\xa8\\\\x84&\\\\xa5idc2X\\\\xa7p)IUw\\\\xee\\\\xd3\\\\xf4\\\\x82B\\\\x80\\\\xb5\\\\x8f\\\\xa2T\\\\xa7cf|\\\\xae\\x19v\\\\xbex\\x15\\x08\\x0c\\\\xf6\\\\xd6\\\\xc3B\\x0b\\nf\\x04ƨk\\x15\\r\\x06\\\\xb5\\\\xfb\\n{>\\\\x92O\\\\x9c3E\\\\xa8\\\\x86\\x0b\\x0c\\nj\\\\xf0\\x13\\x15t\\\\x9a\\\\xd3}\\\\xa7\\x0c\\\\x90\\x19t\\x0f!\\\\xd9\\\\xf7v\\\\xa4f\\\\x96\\\\x9c\\\\xf2\\\\x90\\x12A\\x0f{\\\\xd3M\\\\xb2$mp=T\\\\x97\\x1b\\\\x91\\\\xec\\\\xda^\\\\xdb5\\n\\\\x8evrҹ\\x15tm\\\\x93\\x14\\\\xc5|\\x15\\\\x80\\\\xb1 V\\\\x96\\r\\x16\\\\x89S\\x18,\\\\x80\\\\xb6\\\\x9c1,\\\\x9f3\\\\x97\\\\x96\\\\xb9\\\\x99\\\\x87\\\\xa7\\\\xfd\\\\xfet\\\\x8e|J8\\\\xa0\\\\xdd\\x10\\\\x8f7\\\\xe0\\x10xW\\\\xc9A\\\\xf4\\\\x92@\\x7f\\\\xc5\\x15_\\\\x90\\\\xab\\\\xbcf \\x1ds\\\\x8a\\\\x94i\\\\xfe6\\\\\\\\xe9~+W\\th\\\\x89v\\x00\\'\\\\xd3s9\\\\xe7\\\\x8a\\\\xf8u\\\\xcf\\\\xce\\x1ep\\\\xa5^\\\\xa2x3_\\x1dl\\x04@-\\\\xeb\\\\x8f\\\\xe4\\\\xfb\\x12Hq_\\\\xa1^\\\\xb4\\\\xab\\\\xcdܗ\\x1e\\\\xbc\\'\\\\\\'\\\\x9fzڴ\\\\xd4\\\\xc7b\\\\xde\"\\\\xbaMk\\\\xa9\\\\xb3\\x17\\x7fuk\\\\xfcu(\\\\x91\\x02\\\\xcaۊ\\\\xf6' |>>>>"
      ]
     },
     "execution_count": 5,
     "metadata": {},
     "output_type": "execute_result"
    }
   ],
   "source": [
    "pcap[101]"
   ]
  },
  {
   "cell_type": "markdown",
   "metadata": {},
   "source": [
    "# 802.11 FCS/QOS/CCMP Segment\n",
    "#### Frames/Packets/Segments each encapsulated layer consists of fields"
   ]
  },
  {
   "cell_type": "markdown",
   "metadata": {},
   "source": [
    "# Exploring an item in packet list"
   ]
  },
  {
   "cell_type": "code",
   "execution_count": 6,
   "metadata": {},
   "outputs": [
    {
     "name": "stdout",
     "output_type": "stream",
     "text": [
      "RadioTap / 802.11 Data QoS Data 0c:9d:92:54:fe:30 (TA=BSSID) > 24:f5:a2:ea:86:c3 (RA=DA) / Dot11QoS / Dot11CCMP\n",
      "802.11 Data QoS Data 0c:9d:92:54:fe:30 (TA=BSSID) > 24:f5:a2:ea:86:c3 (RA=DA) / Dot11QoS / Dot11CCMP\n",
      "Dot11QoS / Dot11CCMP\n",
      "Dot11CCMP\n",
      "\n",
      "###[ RadioTap ]### \n",
      "  version   = 0\n",
      "  pad       = 0\n",
      "  len       = 56\n",
      "  present   = Flags+Channel+dBm_AntSignal+RXFlags+MCS+A_MPDU+timestamp+RadiotapNS+Ext\n",
      "  \\Ext       \\\n",
      "   |###[ RadioTap Extended presence mask ]### \n",
      "   |  present   = b5+b11+b29+Ext\n",
      "   |###[ RadioTap Extended presence mask ]### \n",
      "   |  present   = b37+b43\n",
      "  Flags     = FCS\n",
      "  ChannelFrequency= 2472\n",
      "  ChannelFlags= 2GHz+Dynamic_CCK_OFDM\n",
      "  dBm_AntSignal= -33 dBm\n",
      "  RXFlags   = \n",
      "  knownMCS  = guard_interval\n",
      "  Ness_LSB  = 0\n",
      "  STBC_streams= 0\n",
      "  FEC_type  = BCC\n",
      "  HT_format = mixed\n",
      "  guard_interval= Long_GI\n",
      "  MCS_bandwidth= 20MHz\n",
      "  MCS_index = 0\n",
      "  A_MPDU_ref= 0\n",
      "  A_MPDU_flags= \n",
      "  timestamp = 1171691223\n",
      "  ts_accuracy= 22\n",
      "  ts_position= 17\n",
      "  ts_flags  = 3\n",
      "  notdecoded= '\\\\xdc\\x00\\\\xdf\\x01'\n",
      "###[ 802.11-FCS ]### \n",
      "     subtype   = QoS Data\n",
      "     type      = Data\n",
      "     proto     = 0\n",
      "     FCfield   = from-DS+retry+protected\n",
      "     ID        = 12288\n",
      "     addr1     = 24:f5:a2:ea:86:c3 (RA=DA)\n",
      "     addr2     = 0c:9d:92:54:fe:30 (TA=BSSID)\n",
      "     addr3     = 0c:9d:92:54:fe:30 (SA)\n",
      "     SC        = 41392\n",
      "     fcs       = 0xbae91bc2\n",
      "###[ 802.11 QoS ]### \n",
      "        A_MSDU_Present= 0\n",
      "        Ack_Policy= 0\n",
      "        EOSP      = 0\n",
      "        TID       = 0\n",
      "        TXOP      = 0\n",
      "###[ 802.11 CCMP packet ]### \n",
      "           PN0       = 19\n",
      "           PN1       = 138\n",
      "           res0      = 0\n",
      "           key_id    = 0\n",
      "           ext_iv    = 1\n",
      "           res1      = 0\n",
      "           PN2       = 0\n",
      "           PN3       = 0\n",
      "           PN4       = 0\n",
      "           PN5       = 0\n",
      "           data      = 'a\\\\xd2oNyeo\\\\xaa^\\\\xa6<\\\\xab\\\\x89<-\\\\xdbx\\\\x95\\\\x93I\\\\xc7G\\\\xe5JCg\\\\xe2\\\\xdbR\\\\xd6VarÄ\\\\xe2\\\\x8a\\\\xc9*\\\\xa6]\\\\x8c8\\\\xf9G\\\\xf6\\\\xbd\\\\x83\\\\xe1>I\\x14\\\\xa9\\\\xbc\\\\xc4؎\\\\xb3\\\\xc7\\\\xff\\\\xdbT\\x13\\\\xc8\\\\xf77Ȋ\\\\xd8\\\\xde\\\\xc0\\\\xdc\\\\xf2\\\\xb1:\\\\xfa#N\\\\xc9s\\\\x90\\\\x8f\"\\\\xe6\\\\xb6dY+Y\\x00+1\\x07\\\\xf1S\\\\x83?\\\\xbbt\\\\xd4G\\\\xe4\\\\xc0\\\\xac_qU\\x0bN\\'\\\\xe9\\x05\\\\Z@>6\\\\xa2\\x11\\x05\\\\xc6؇M\\\\x82\\\\x90qN\\\\xc0k5g\\x03\\\\xb00\\\\x9d\\x18Ό黳z\\\\xfe\\\\xa0\\\\xf2\\\\xb5p\\x04\\\\xbbJ(f\\\\xe0k&\\x07\\\\xebJ\\\\xd2\\\\xce{@*\\\\xb4;>Dߛy\\\\x98\\\\xba\\x17\\\\xb7^a\\\\xd5\\\\xe1\\\\xfd\\\\xa4\\\\xc8/\\\\xb9\\\\xf8P.\\\\xbd#&\\\\xb9\\\\xc6\\x0f\\rZ\\\\xb0z\\\\xf5\\\\x8e\\\\x81R\\\\x88I\\\\x9eXac\\\\xbf\\\\xd8[\\\\x9c\\x13\\\\xc8\\r\\x16\\\\xe8ٽ\"\\\\xf6J\\\\x85\\\\xa4\\\\xf3^\\\\xaf\\\\xe1#\\\\x9eHv.*\\\\x94[m]o\\\\xc8\\\\xd5IO\\\\xa5\\\\x87>\\\\x9cH\\\\xcd9\\\\x90X֛\\\\xe3C(\\\\xbd\\\\xc9;\\x06\\x1d\\\\xa5\\\\xaa\\\\xb2&-F\\x16\\\\x84f2-1Ǭ\\\\xa5\\\\xdc\\\\xfa\\x02\\x18\\\\xde\\x13W\\\\xf6\\\\xc38\\\\xe2k\\\\xf6\\x04\\x19;H\\x1c\\\\xac\\\\xb4|3\\\\xfa\\\\xab+\\\\xeeaz\\\\x84\\\\xec\\\\xbat\\\\xdae\\x1a\\\\xd7~h\\\\xfc>N(\\\\xe7\\\\xe4\\x12!\\\\x84\\x1d$\\\\xbd]wBRB-:\\\\xaf쏿J-\\\\xf6Ӵ\\\\xa5c\\x19\\\\xe8O69֍\\t\\\\xc3\\x1a\\\\xdd\\\\xf0XPR\\\\xb8\\x0by\\x05l\\\\xa4F\\\\xbe\\\\xfb\\\\x83\\\\xed\\\\x86t4\\\\xb9\\\\xc14\\\\xe6EFd\\\\xad\\\\xf7\\\\x99%M\\\\x9c\\\\x84\\\\xf6\\x19;t\\\\xf2\\\\xfdܘ,b\\x1d\\x0e\\\\xa8\\\\x90\\\\xfbpV\\x00H\\\\xff\\\\xae%\\\\x88|&í5\\\\xc5\\\\xf7\\\\xc7h`\\x0b\\x1e\\\\xe7{\\\\x91\\\\xc0P\\\\xd0\\x90\\\\xac`\\\\xe3\\\\xb1\\x1e\\\\xdd\\x1ba\\\\xeeT\\\\xf2Z\\\\xf9\\\\x93\\\\xb9\\\\x91>\\\\xfd\\x08w\\x7f{4\\\\\\x1f\\\\xa8\\x16\\x1f\\\\xf8\\\\xe0\\\\x8b\\\\xa5\\\\xff~\\\\x93\\x11\\\\x9f0D\\\\xf9\\x1e<\\\\xdcyCb\\x10\\x195\\\\xa1勭\\x17\\\\xa3\\\\xea>\\\\x9c\\\\xf59R\\x15\\\\xaaE\\\\xf0\\\\xdd\\x0e֔r\\\\xb5\\\\xe5\\\\xcf*\\\\x99\\\\xb2]?7\\x0e`l\\\\xaf|\\\\xd2e\\\\xc9w\\\\x9a\\\\x9e\\\\xe0\\x15\\\\)\\\\xad+\\\\x88!\\\\xae\\\\xf3\\\\xe8\\\\x96\\\\xe5x\\\\xc6\\x00\\\\xce=\\\\xf0\\\\x97\\x1dX\\\\xd2N\\\\xe3#\\x08\\\\xe1\\\\xda\\x0f\\\\xee}\\\\xa0\\\\xdaP3\\\\x81\\\\xb7D\\\\x82~D\\x1fD(\\\\xa7\\x18g\\\\xd6\\x1d7@\\\\xc4\\\\xf9/,~%m\\\\x96ʴ;\\\\xaf\\\\xe8\\x17\\\\xdd\\x02@\\x00\\x0c\\\\xc0H\\u0381\\'h5ɠ#\\x14\\\\x98\\\\xe9`}\\\\x9e{\\x0c\\\\xb7\\\\xbaɨ\\\\xb8\\\\xda\\\\xfb4\\x17\\\\xb4\\\\x84\\\\xa6S\\\\xb7g\\\\xa8\\\\xd10\\\\xa4\\x16l9\\\\xfbX-\\\\x958\\\\xad\\\\xa2ji\\\\x9a\\\\xce\\x06\\\\\\\\xc5Y\\\\xdc(\\\\xb4a\\\\x86\\x03J\\x04\\\\xa6?\\\\x9ejs\\n\\\\xd7\\\\xf1`6\\x01\\\\xb1\\x02\\x1e\\\\xec\\\\xea(\\\\xd0\\\\xed\\\\xacV_O\\\\x9a\\x16\\x01U3\\\\xb0\\\\xfaD\\\\xe1dΝ\\\\xb3\\\\xbcb\\\\xcc\\x12N\\\\x92!\\\\xf3\\\\xfd\\\\xf8\\\\x8d,\\\\xc1\\\\xc4#Q=\\\\x9a\\\\xfb\\\\xb3\\x0c\\\\xce\\x19\\\\xeb,\\rV\\x15\\x0c\\\\xec\\\\xa0\\\\xca\\x178D:Z\\x05J\\\\xa6\\t\\\\xddw \\\\xbaڡ\\\\xdf\\\\xc5\\x13D\\\\xb5\\\\xf1^\\\\xb6\\\\xfb\\x05]\\x02xJ\\\\xfcbz\\\\xd8A\\\\x8c\\x0e;\\\\xaf\\\\xe4\\\\xf4[\\\\xebw|;\\\\xcaĦm\\x1b\\\\xc2[\\\\xb4Uo\\\\xf1O\\x1c\\\\xa8\\x01Cֶ\\\\xbb\\x1d˥/O\\\\xf07\\\\xd4[៦^\\\\x97?\\x18{_\\\\x91\\\\xb6\\\\x8a\\\\x83d\\\\xc6e\\\\xbe\\\\xee洶\\\\xf7552\\\\xe4\\\\xa4h\\\\xfes\\\\x9b[<C\"H\\\\xc8H\\\\xd7\\\\xdch8\\\\x93\\\\xc5\\\\xf4\\\\xf6\\\\xc1+%^0\\x1c\\\\xc8\\x7f0\\\\x83\\x0b0+\\\\x86}XH\\x1a\\x13\\\\xed\\\\xc8T*u\\\\xac%\\x18!\\x1f\\\\x91\\\\x9d=怒\\\\xeet\\\\x96^\\\\x83~\\\\xb4]\\\\xbb\\\\x9d\\x01\\x05\\\\xae9\\\\x85\\\\xbc\\x1b\\\\xc2_\\\\xed\\\\x82(\\\\x8cU*\\\\xe0Q\\\\xb9;\\\\xb0\\x04b\\x10\\\\x9bԉԀ\\\\xa0\\\\xf5#\\\\xd9~\\t\\\\x8ef°\\x08\\\\xea\\x06\\\\xb7\\\\xbdp\\x17\\\\x90\\\\x80U\\\\x8aC\\\\xf5[$\\\\xaf\\x1d\\\\x88a\\x02\\\\x86J^\\\\x83\\x16\\\\xb2\\x03\\x18~\\x00Q5\\\\xd0\\x006\\\\xf4l\\\\xcd^\\\\xb2_K\\\\x9d\\\\xf9\\\\xa1`\\\\xbb\\\\xc2\\\\xdby\\\\xfad\\\\x93\\\\x9d\\x01ݞ\\\\xab`x\\\\xf0\\\\xa0~\\\\xde\\\\xc1\\\\xcdx6\\\\xf2qǪ\\\\xb3\\x1bO\\\\xe9,\\\\xc6\\\\xd4\\\\xfb\\\\xd3Ķ\\\\xaa\\\\xeb\"\\\\xc7=\\\\x854\\\\xb5\\\\x87>\\x1e\\\\xa9\\x1a\\x00\\\\xa3\\\\xe8\\\\x87\\x16\\\\xbbϿs\\\\xd4,\\x10\\\\xb7k\\\\xb9\\x15Y\\\\xec\\\\xcd\\\\xcb\\x18\\\\x9b\\\\xa1H6\\\\xb1\\\\x8b\\\\xe8\\x04exȷX\\x0c\\\\xe6\\\\x95\\x13\\\\x98\\\\xb1\\\\x97\\\\xac\\\\x88\\\\xf7\\\\xf7m\\\\x86\\x01\\\\xb0\\x16\\\\x98\\\\x85\\\\xa0,k\\\\xd3\\r\\\\x94R|\\\\xfd\\\\xe3T?\\\\xba\\\\xd8\\\\xfa\\\\x9d\\'\\x18h\\\\xbd̻K\\\\xdf3],S\\\\xa8a\\\\x88\\\\x83\\\\x843\\x03\\\\xf6\\\\xd3C\\x10r\\x03\\'X\\\\xbf\\\\xb9\\\\xbdP\\nI\\\\xf5,\\x00\\\\xce^\\\\xbcx\\\\xb4\\t>J\\\\xb0\\x08`\"\\x1d\\x00\\\\xd5\\u0530w\\tw\\\\xe7\\x0b?\\\\x93\\x7fK\\\\xd1d\\\\xa9U\\\\xad|\\x1b\\\\xb1\\\\xdd]Ό\\\\xbe<Q\\\\xa8Tm\\\\xf9\\\\x86\\x03\\x1dK\\\\xbc\\\\x81w\\\\xf3,\\rx\\\\xa7Y]\\\\xae\\x08\\\\xac\\x0bV\\\\xb1\\x15\\\\xc0\\x1c\\\\xdb]\\\\x8f\\\\xf4k\\\\x8c_\\x0e\\\\xc34\\\\x91\\\\xb7\\\\xb7\\x13\\\\xb0\\\\xba\\x1aE\\x03p\\\\xaa\\x13\\\\xf6\\x0cؾ\\x14\\\\x90q\\r+\\x1c\\x1a\\\\x99\\\\x96\\x0e\\x1cW\\\\x9d_EW&\\\\xf5\\\\xee\\\\x98(\\\\xa8H\\\\xf3\\\\xf4/\\x01\\\\xf2\\\\xaa\\\\x95n\\\\xabج\\x14\\\\xdc^*\\\\xd8t\\\\xffv\\\\xe7%\\x7f5\\\\x8e\\x00^ \\x03)\\\\xca\\\\xe0^\\\\x8dJ$|\\\\xf95\\\\xe2\\x17\\x17\\\\xe82\\\\x8ax%\\x02E\\\\xacW\\\\x82\\\\xf1\\\\xd1\\\\xc0\\x7fD\\\\xa1\\\\x85\\\\x85\\\\xe0\\\\xcc\\x14gU\\\\x910\\\\xf2\\\\xb4\\\\xf3\\\\xce\\x03`\\\\xbb\\\\xc7DD\\\\xa9X\\x05E\\rv\\x10`\\x18\\\\xc0\\\\xd1d\\\\x9f\\x00\\\\xf9\\\\x99W\\x03\\\\xbaqW\\\\xff\\\\x95@\\\\xd8\\\\xf8\\\\x97.\\\\xa7\\\\xee\\x00洉@w\\\\xddN\\\\xd3\\x14\\\\xb6X\\\\x93g\\\\xf5\\\\x9c\\\\xae\\\\x9e~*\\\\x8d\\x0f#B[*\\\\x84(\\\\xeb\\\\xbbWZ(\\\\xa8\\\\xc4\\x08\\\\xa0\\\\xf5\\\\xbbd{\\\\xc0\\\\xe1(\\x7f@\\\\xa3\\\\xcc\\\\xd9\"\\\\xbbP\\\\xeb\\\\xea\\\\xf4L\\\\xa2\\x14\\x13+\\x7f2,}0\\\\x8c\\x0bF\\x1b\\\\xa19\\\\xf8]\\r\\x1fYh\\\\x9c\\\\xa8\\\\xe7\\\\xbb\\x1d_4\\\\x9f\\\\xb0)v\\\\xae\\\\x9a>\\\\x8b*!u2\\x02\\\\xaf\\\\xa0j\\\\xfeQ\\\\xde\\x0etzڱ\\\\xe1Y\\\\xb08\\\\xff\\x1a\\\\xe3\\\\x82@A\\\\xbb\\\\x99\\\\xeb;o\\\\x8fF)\\\\xe0Et\\\\x83*\\\\x95\\x1c\\\\x9e\\\\x83\\\\xea\\\\xaa+\\\\xca\\x19\\\\xf54\\\\xab5\\\\xab\\\\x94\\\\xf5\\x0e\\\\xc5\\\\xf1\\\\xf1\\\\xd6\\\\xf2\"\\\\xd5\\x1f\\x08]\\\\x9af\\\\xe8'\n",
      "\n"
     ]
    }
   ],
   "source": [
    "# Radio -> 802.11 -> Layer 2 Segments\n",
    "# We're only interested in Layers 2 (802.11) \n",
    "## When capturing we capture layer 2 frames and beyond\n",
    "\n",
    "# Retrieving a single item from packet list\n",
    "radio_frame = pcap[103]\n",
    "wireless_packet = radio_frame.payload\n",
    "segment = wireless_packet.payload\n",
    "dot11_ccmp = segment.payload\n",
    "data = dot11_ccmp.payload # Retrieve payload that comes after layer 4\n",
    "\n",
    "# Observe that we just popped off previous layer header\n",
    "print(radio_frame.summary())\n",
    "print(wireless_packet.summary())\n",
    "print(segment.summary())\n",
    "print(dot11_ccmp.summary())\n",
    "print(data.summary()) # If blank, empty object\n",
    "\n",
    "# Complete depiction of paket\n",
    "## Achieving understanding that these are the fields will enable the ability \n",
    "## to ask the data more meaningful questions ie) type of layer 4 segment is defined in layer 3 packet\n",
    "radio_frame.show()"
   ]
  },
  {
   "cell_type": "code",
   "execution_count": 7,
   "metadata": {},
   "outputs": [
    {
     "name": "stdout",
     "output_type": "stream",
     "text": [
      "RadioTap / 802.11 Control CTS None (TA) > 0c:9d:92:54:fe:34 (RA)\n",
      "802.11 Control CTS None (TA) > 0c:9d:92:54:fe:34 (RA)\n",
      "\n",
      "\n",
      "\n",
      "###[ RadioTap ]### \n",
      "  version   = 0\n",
      "  pad       = 0\n",
      "  len       = 56\n",
      "  present   = TSFT+Flags+Rate+Channel+dBm_AntSignal+RXFlags+timestamp+RadiotapNS+Ext\n",
      "  \\Ext       \\\n",
      "   |###[ RadioTap Extended presence mask ]### \n",
      "   |  present   = b5+b11+b29+Ext\n",
      "   |###[ RadioTap Extended presence mask ]### \n",
      "   |  present   = b37+b43\n",
      "  mac_timestamp= 8267364917\n",
      "  Flags     = FCS\n",
      "  Rate      = 24.0 Mbps\n",
      "  ChannelFrequency= 5180\n",
      "  ChannelFlags= OFDM+5GHz\n",
      "  dBm_AntSignal= -65 dBm\n",
      "  RXFlags   = \n",
      "  timestamp = 3972397602\n",
      "  ts_accuracy= 22\n",
      "  ts_position= 17\n",
      "  ts_flags  = 3\n",
      "  notdecoded= '\\\\xbf\\x00\\\\xb3\\x01'\n",
      "###[ 802.11-FCS ]### \n",
      "     subtype   = CTS\n",
      "     type      = Control\n",
      "     proto     = 0\n",
      "     FCfield   = \n",
      "     ID        = 54272\n",
      "     addr1     = 0c:9d:92:54:fe:34 (RA)\n",
      "     fcs       = 0x99aa0a54\n",
      "\n"
     ]
    }
   ],
   "source": [
    "# Radio -> 802.11 -> Layer 2 Segments\n",
    "# We're only interested in Layers 2 (802.11) \n",
    "## When capturing we capture layer 2 frames and beyond\n",
    "\n",
    "# Retrieving a single item from packet list\n",
    "radio_frame1 = pcap1[103]\n",
    "wireless_packet1 = radio_frame1.payload\n",
    "segment1 = wireless_packet1.payload\n",
    "dot11_ccmp1 = segment1.payload\n",
    "data1 = dot11_ccmp1.payload # Retrieve payload that comes after layer 4\n",
    "\n",
    "# Observe that we just popped off previous layer header\n",
    "print(radio_frame1.summary())\n",
    "print(wireless_packet1.summary())\n",
    "print(segment1.summary())\n",
    "print(dot11_ccmp1.summary())\n",
    "print(data1.summary()) # If blank, empty object\n",
    "\n",
    "# Complete depiction of paket\n",
    "## Achieving understanding that these are the fields will enable the ability \n",
    "## to ask the data more meaningful questions ie) type of layer 4 segment is defined in layer 3 packet\n",
    "radio_frame1.show()"
   ]
  },
  {
   "cell_type": "markdown",
   "metadata": {},
   "source": [
    "### Understanding object types in scapy and Importing layers"
   ]
  },
  {
   "cell_type": "code",
   "execution_count": 8,
   "metadata": {},
   "outputs": [
    {
     "name": "stdout",
     "output_type": "stream",
     "text": [
      "<class 'scapy.layers.dot11.RadioTap'>\n",
      "<class 'scapy.layers.dot11.Dot11FCS'>\n",
      "<class 'scapy.layers.dot11.Dot11QoS'>\n",
      "<class 'scapy.layers.dot11.Dot11CCMP'>\n",
      "Radio <RadioTap from Sniffed+krack_data_Ana.pcap: TCP:0 UDP:0 ICMP:0 Other:9625>\n",
      "802.11 <Dot11FCS from Sniffed+krack_data_Ana.pcap: TCP:0 UDP:0 ICMP:0 Other:9625>\n",
      "QoS <Dot11QoS from Sniffed+krack_data_Ana.pcap: TCP:0 UDP:0 ICMP:0 Other:7631>\n",
      "CCMP <Dot11CCMP from Sniffed+krack_data_Ana.pcap: TCP:0 UDP:0 ICMP:0 Other:7611>\n"
     ]
    }
   ],
   "source": [
    "# Understanding the object types in scapy\n",
    "print(type(radio_frame))\n",
    "print(type(wireless_packet))\n",
    "print(type(segment))\n",
    "print(type(dot11_ccmp))\n",
    "\n",
    "\n",
    "# Packets can be filtered on layers ie) radio_frame[scapy.layers.l2.Ether]\n",
    "radio_type = type(radio_frame)\n",
    "wireless_type = type(wireless_packet)\n",
    "qos_type = type(segment)\n",
    "ccmp_type = type(dot11_ccmp)\n",
    "print(\"Radio\",pcap[radio_type])\n",
    "print(\"802.11\", pcap[wireless_type])\n",
    "print(\"QoS\", pcap[qos_type])\n",
    "print(\"CCMP\", pcap[ccmp_type])\n",
    "\n",
    "# Scapy provides this via import statements\n",
    "from scapy.layers.dot11 import RadioTap\n",
    "from scapy.layers.dot11 import Dot11FCS\n",
    "from scapy.layers.dot11 import Dot11QoS\n",
    "from scapy.layers.dot11 import Dot11CCMP\n",
    "\n"
   ]
  },
  {
   "cell_type": "code",
   "execution_count": 9,
   "metadata": {},
   "outputs": [
    {
     "name": "stdout",
     "output_type": "stream",
     "text": [
      "<class 'scapy.layers.dot11.RadioTap'>\n",
      "<class 'scapy.layers.dot11.Dot11FCS'>\n",
      "<class 'scapy.packet.NoPayload'>\n",
      "<class 'scapy.packet.NoPayload'>\n",
      "Radio <RadioTap from Sniffed+krack_data_Ana.pcap: TCP:0 UDP:0 ICMP:0 Other:9625>\n",
      "802.11 <Dot11FCS from Sniffed+krack_data_Ana.pcap: TCP:0 UDP:0 ICMP:0 Other:9625>\n",
      "QoS <NoPayload from Sniffed+krack_data_Ana.pcap: TCP:0 UDP:0 ICMP:0 Other:0>\n",
      "CCMP <NoPayload from Sniffed+krack_data_Ana.pcap: TCP:0 UDP:0 ICMP:0 Other:0>\n"
     ]
    }
   ],
   "source": [
    "# Understanding the object types in scapy\n",
    "print(type(radio_frame1))\n",
    "print(type(wireless_packet1))\n",
    "print(type(segment1))\n",
    "print(type(dot11_ccmp1))\n",
    "\n",
    "\n",
    "# Packets can be filtered on layers ie) radio_frame[scapy.layers.l2.Ether]\n",
    "radio_type1 = type(radio_frame1)\n",
    "wireless_type1 = type(wireless_packet1)\n",
    "qos_type1 = type(segment1)\n",
    "ccmp_type1 = type(dot11_ccmp1)\n",
    "print(\"Radio\",pcap[radio_type1])\n",
    "print(\"802.11\", pcap[wireless_type1])\n",
    "print(\"QoS\", pcap[qos_type1])\n",
    "print(\"CCMP\", pcap[ccmp_type1])\n",
    "\n",
    "# Scapy provides this via import statements\n",
    "from scapy.layers.dot11 import RadioTap\n",
    "from scapy.layers.dot11 import Dot11FCS\n",
    "from scapy.layers.dot11 import Dot11QoS\n",
    "from scapy.layers.dot11 import Dot11CCMP\n",
    "\n"
   ]
  },
  {
   "cell_type": "markdown",
   "metadata": {},
   "source": [
    "# Convert PCAP to DataFrame"
   ]
  },
  {
   "cell_type": "code",
   "execution_count": 10,
   "metadata": {},
   "outputs": [
    {
     "name": "stdout",
     "output_type": "stream",
     "text": [
      "['subtype', 'type', 'proto', 'cfe', 'FCfield', 'ID', 'addr1', 'addr2', 'addr3', 'SC', 'addr4', 'fcs']\n",
      "['subtype', 'type', 'proto', 'cfe', 'FCfield', 'ID', 'addr1', 'addr2', 'addr3', 'SC', 'addr4', 'fcs', 'A_MSDU_Present', 'Ack_Policy', 'EOSP', 'TID', 'TXOP', 'PN0', 'PN1', 'res0', 'key_id', 'ext_iv', 'res1', 'PN2', 'PN3', 'PN4', 'PN5', 'data']\n"
     ]
    }
   ],
   "source": [
    "# Collect field names from FCS/QoS/CCMP (These will be columns in DF)\n",
    "fcs_fields = [field.name for field in Dot11FCS().fields_desc]\n",
    "qos_fields = [field.name for field in Dot11QoS().fields_desc]\n",
    "ccmp_fields = [field.name for field in Dot11CCMP().fields_desc]\n",
    "print(fcs_fields)\n",
    "dataframe_fields = fcs_fields  + qos_fields + ccmp_fields\n",
    "print(dataframe_fields)\n",
    "# Create blank DataFrame\n",
    "df = pd.DataFrame(columns=dataframe_fields)\n",
    "for packet in pcap[Dot11FCS]:\n",
    "    # Field array for each row of DataFrame\n",
    "    field_values = []\n",
    "    for field in fcs_fields:\n",
    "        #print(field)\n",
    "        try:\n",
    "            if field == 'cfe' or field == 'addr4':\n",
    "                \n",
    "                #field_values.append(len(packet[Dot11FCS].fields[field]))\n",
    "                field_values.append(1)\n",
    "            else:\n",
    "                field_values.append(packet[Dot11FCS].fields[field])\n",
    "        except: \n",
    "            field_values.append(0)\n",
    "    #field_values.append(packet.time)\n",
    "    \n",
    "    layer_type = type(packet[Dot11FCS].payload)\n",
    "    #print('--->')\n",
    "    #print(layer_type)\n",
    "    for field in qos_fields:\n",
    "        try:\n",
    "            field_values.append(packet[layer_type].fields[field])\n",
    "        except: \n",
    "            field_values.append(0)\n",
    "       \n",
    "    layer_type1 = type(packet[Dot11FCS].payload.payload)    \n",
    "    #print(layer_type1)\n",
    "    #print('--->')\n",
    "    for field in ccmp_fields:\n",
    "        try:\n",
    "            field_values.append(packet[layer_type1].fields[field])\n",
    "        except:\n",
    "            field_values.append(None)\n",
    "    \n",
    "    # Add row to DF\n",
    "    df_append = pd.DataFrame([field_values], columns=dataframe_fields)\n",
    "    df = pd.concat([df, df_append], axis=0)\n",
    "\n",
    "# Reset Index\n",
    "df = df.reset_index()\n",
    "# Drop old index column\n",
    "df = df.drop(columns=\"index\")"
   ]
  },
  {
   "cell_type": "code",
   "execution_count": 11,
   "metadata": {},
   "outputs": [
    {
     "name": "stdout",
     "output_type": "stream",
     "text": [
      "['subtype', 'type', 'proto', 'cfe', 'FCfield', 'ID', 'addr1', 'addr2', 'addr3', 'SC', 'addr4', 'fcs']\n",
      "['subtype', 'type', 'proto', 'cfe', 'FCfield', 'ID', 'addr1', 'addr2', 'addr3', 'SC', 'addr4', 'fcs', 'A_MSDU_Present', 'Ack_Policy', 'EOSP', 'TID', 'TXOP', 'PN0', 'PN1', 'res0', 'key_id', 'ext_iv', 'res1', 'PN2', 'PN3', 'PN4', 'PN5', 'data']\n"
     ]
    }
   ],
   "source": [
    "# Collect field names from FCS/QoS/CCMP (These will be columns in DF)\n",
    "fcs_fields1 = [field.name for field in Dot11FCS().fields_desc]\n",
    "qos_fields1 = [field.name for field in Dot11QoS().fields_desc]\n",
    "ccmp_fields1 = [field.name for field in Dot11CCMP().fields_desc]\n",
    "print(fcs_fields1)\n",
    "dataframe_fields1 = fcs_fields1  + qos_fields1 + ccmp_fields1\n",
    "print(dataframe_fields1)\n",
    "# Create blank DataFrame\n",
    "df1 = pd.DataFrame(columns=dataframe_fields1)\n",
    "for packet in pcap1[Dot11FCS]:\n",
    "    # Field array for each row of DataFrame\n",
    "    field_values1 = []\n",
    "    # Add all IP fields to dataframe\n",
    "    for field in fcs_fields1:\n",
    "        #print(field)\n",
    "        try:\n",
    "            if field == 'cfe' or field == 'addr4':\n",
    "                # Retrieving number of options defined in IP Header\n",
    "                #field_values.append(len(packet[Dot11FCS].fields[field]))\n",
    "                field_values1.append(1)\n",
    "            else:\n",
    "                field_values1.append(packet[Dot11FCS].fields[field])\n",
    "        except: \n",
    "            field_values1.append(0)\n",
    "    #field_values.append(packet.time)\n",
    "    \n",
    "    layer_type1 = type(packet[Dot11FCS].payload)\n",
    "    #print('--->')\n",
    "    #print(layer_type)\n",
    "    for field in qos_fields1:\n",
    "        try:\n",
    "            field_values1.append(packet[layer_type1].fields[field])\n",
    "        except: \n",
    "            field_values1.append(0)\n",
    "       \n",
    "    layer_type2 = type(packet[Dot11FCS].payload.payload)    \n",
    "    #print(layer_type1)\n",
    "    #print('--->')\n",
    "    for field in ccmp_fields1:\n",
    "        try:\n",
    "            field_values1.append(packet[layer_type2].fields[field])\n",
    "        except:\n",
    "            field_values1.append(None)\n",
    "    \n",
    "    # Add row to DF\n",
    "    df_append1 = pd.DataFrame([field_values1], columns=dataframe_fields)\n",
    "    df1 = pd.concat([df1, df_append1], axis=0)\n",
    "\n",
    "# Reset Index\n",
    "df1 = df1.reset_index()\n",
    "# Drop old index column\n",
    "df1 = df1.drop(columns=\"index\")"
   ]
  },
  {
   "cell_type": "markdown",
   "metadata": {},
   "source": [
    "### DataFrame Basics"
   ]
  },
  {
   "cell_type": "code",
   "execution_count": 12,
   "metadata": {
    "scrolled": true
   },
   "outputs": [
    {
     "name": "stdout",
     "output_type": "stream",
     "text": [
      "subtype                                                           8\n",
      "type                                                              2\n",
      "proto                                                             0\n",
      "cfe                                                               1\n",
      "FCfield                                     from-DS+retry+protected\n",
      "ID                                                            12288\n",
      "addr1                                             24:f5:a2:ea:86:c3\n",
      "addr2                                             0c:9d:92:54:fe:30\n",
      "addr3                                             0c:9d:92:54:fe:30\n",
      "SC                                                            41344\n",
      "addr4                                                             1\n",
      "fcs                                                       816948214\n",
      "A_MSDU_Present                                                    0\n",
      "Ack_Policy                                                        0\n",
      "EOSP                                                              0\n",
      "TID                                                               0\n",
      "TXOP                                                              0\n",
      "PN0                                                              16\n",
      "PN1                                                             138\n",
      "res0                                                              0\n",
      "key_id                                                            0\n",
      "ext_iv                                                            1\n",
      "res1                                                              0\n",
      "PN2                                                               0\n",
      "PN3                                                               0\n",
      "PN4                                                               0\n",
      "PN5                                                               0\n",
      "data              b'n\\xc5\\xd2\\xbd\\xe8\\x1f\\x97\\x86\\xd2\\xf5$$\\xda\\...\n",
      "Name: 0, dtype: object\n",
      "(9625, 28)\n"
     ]
    },
    {
     "data": {
      "text/html": [
       "<div>\n",
       "<style scoped>\n",
       "    .dataframe tbody tr th:only-of-type {\n",
       "        vertical-align: middle;\n",
       "    }\n",
       "\n",
       "    .dataframe tbody tr th {\n",
       "        vertical-align: top;\n",
       "    }\n",
       "\n",
       "    .dataframe thead th {\n",
       "        text-align: right;\n",
       "    }\n",
       "</style>\n",
       "<table border=\"1\" class=\"dataframe\">\n",
       "  <thead>\n",
       "    <tr style=\"text-align: right;\">\n",
       "      <th></th>\n",
       "      <th>ID</th>\n",
       "      <th>addr1</th>\n",
       "      <th>addr2</th>\n",
       "      <th>fcs</th>\n",
       "      <th>PN0</th>\n",
       "    </tr>\n",
       "  </thead>\n",
       "  <tbody>\n",
       "    <tr>\n",
       "      <th>0</th>\n",
       "      <td>12288</td>\n",
       "      <td>24:f5:a2:ea:86:c3</td>\n",
       "      <td>0c:9d:92:54:fe:30</td>\n",
       "      <td>816948214</td>\n",
       "      <td>16</td>\n",
       "    </tr>\n",
       "    <tr>\n",
       "      <th>1</th>\n",
       "      <td>12288</td>\n",
       "      <td>24:f5:a2:ea:86:c3</td>\n",
       "      <td>0c:9d:92:54:fe:30</td>\n",
       "      <td>1034404001</td>\n",
       "      <td>17</td>\n",
       "    </tr>\n",
       "    <tr>\n",
       "      <th>2</th>\n",
       "      <td>12288</td>\n",
       "      <td>24:f5:a2:ea:86:c3</td>\n",
       "      <td>0c:9d:92:54:fe:30</td>\n",
       "      <td>1240870107</td>\n",
       "      <td>18</td>\n",
       "    </tr>\n",
       "    <tr>\n",
       "      <th>3</th>\n",
       "      <td>12288</td>\n",
       "      <td>24:f5:a2:ea:86:c3</td>\n",
       "      <td>0c:9d:92:54:fe:30</td>\n",
       "      <td>3135839170</td>\n",
       "      <td>19</td>\n",
       "    </tr>\n",
       "    <tr>\n",
       "      <th>4</th>\n",
       "      <td>12288</td>\n",
       "      <td>24:f5:a2:ea:86:c3</td>\n",
       "      <td>0c:9d:92:54:fe:30</td>\n",
       "      <td>2043329118</td>\n",
       "      <td>20</td>\n",
       "    </tr>\n",
       "    <tr>\n",
       "      <th>...</th>\n",
       "      <td>...</td>\n",
       "      <td>...</td>\n",
       "      <td>...</td>\n",
       "      <td>...</td>\n",
       "      <td>...</td>\n",
       "    </tr>\n",
       "    <tr>\n",
       "      <th>9620</th>\n",
       "      <td>12288</td>\n",
       "      <td>24:f5:a2:ea:86:c3</td>\n",
       "      <td>0c:9d:92:54:fe:30</td>\n",
       "      <td>2425337062</td>\n",
       "      <td>17</td>\n",
       "    </tr>\n",
       "    <tr>\n",
       "      <th>9621</th>\n",
       "      <td>12288</td>\n",
       "      <td>24:f5:a2:ea:86:c3</td>\n",
       "      <td>0c:9d:92:54:fe:30</td>\n",
       "      <td>986370354</td>\n",
       "      <td>18</td>\n",
       "    </tr>\n",
       "    <tr>\n",
       "      <th>9622</th>\n",
       "      <td>12288</td>\n",
       "      <td>24:f5:a2:ea:86:c3</td>\n",
       "      <td>0c:9d:92:54:fe:30</td>\n",
       "      <td>2819835884</td>\n",
       "      <td>19</td>\n",
       "    </tr>\n",
       "    <tr>\n",
       "      <th>9623</th>\n",
       "      <td>0</td>\n",
       "      <td>0c:9d:92:54:fe:30</td>\n",
       "      <td>24:f5:a2:ea:86:c3</td>\n",
       "      <td>3568094436</td>\n",
       "      <td>None</td>\n",
       "    </tr>\n",
       "    <tr>\n",
       "      <th>9624</th>\n",
       "      <td>12288</td>\n",
       "      <td>24:f5:a2:ea:86:c3</td>\n",
       "      <td>0c:9d:92:54:fe:30</td>\n",
       "      <td>521769033</td>\n",
       "      <td>10</td>\n",
       "    </tr>\n",
       "  </tbody>\n",
       "</table>\n",
       "<p>9625 rows × 5 columns</p>\n",
       "</div>"
      ],
      "text/plain": [
       "         ID              addr1              addr2         fcs   PN0\n",
       "0     12288  24:f5:a2:ea:86:c3  0c:9d:92:54:fe:30   816948214    16\n",
       "1     12288  24:f5:a2:ea:86:c3  0c:9d:92:54:fe:30  1034404001    17\n",
       "2     12288  24:f5:a2:ea:86:c3  0c:9d:92:54:fe:30  1240870107    18\n",
       "3     12288  24:f5:a2:ea:86:c3  0c:9d:92:54:fe:30  3135839170    19\n",
       "4     12288  24:f5:a2:ea:86:c3  0c:9d:92:54:fe:30  2043329118    20\n",
       "...     ...                ...                ...         ...   ...\n",
       "9620  12288  24:f5:a2:ea:86:c3  0c:9d:92:54:fe:30  2425337062    17\n",
       "9621  12288  24:f5:a2:ea:86:c3  0c:9d:92:54:fe:30   986370354    18\n",
       "9622  12288  24:f5:a2:ea:86:c3  0c:9d:92:54:fe:30  2819835884    19\n",
       "9623      0  0c:9d:92:54:fe:30  24:f5:a2:ea:86:c3  3568094436  None\n",
       "9624  12288  24:f5:a2:ea:86:c3  0c:9d:92:54:fe:30   521769033    10\n",
       "\n",
       "[9625 rows x 5 columns]"
      ]
     },
     "execution_count": 12,
     "metadata": {},
     "output_type": "execute_result"
    }
   ],
   "source": [
    "# Retrieve first row from DataFrame\n",
    "print(df.iloc[0])\n",
    "\n",
    "print(df.shape)\n",
    "\n",
    "# Return first 5 rows\n",
    "df.head()\n",
    "\n",
    "# Return last 5 rows\n",
    "df.tail()\n",
    "\n",
    "# Return the Source Address for all rows\n",
    "df['addr1']\n",
    "\n",
    "# Return Src Address, Dst Address, Src Port, Dst Port\n",
    "df[['ID','addr1','addr2','fcs','PN0']]"
   ]
  },
  {
   "cell_type": "markdown",
   "metadata": {},
   "source": [
    "# Statistics"
   ]
  },
  {
   "cell_type": "code",
   "execution_count": 13,
   "metadata": {
    "scrolled": false
   },
   "outputs": [
    {
     "name": "stdout",
     "output_type": "stream",
     "text": [
      "# Top Source Address\n",
      "count                  9625\n",
      "unique                    5\n",
      "top       0c:9d:92:54:fe:30\n",
      "freq                   7723\n",
      "Name: addr3, dtype: object \n",
      "\n",
      "\n",
      "# Top subtype Address of krack\n",
      "count     9625\n",
      "unique       8\n",
      "top          8\n",
      "freq      7667\n",
      "Name: subtype, dtype: int64 \n",
      "\n",
      "\n",
      "# Top subtype Address of krook\n",
      "count     25484\n",
      "unique        9\n",
      "top           8\n",
      "freq       8381\n",
      "Name: subtype, dtype: int64 \n",
      "\n",
      "\n",
      "# Top Source Address\n",
      "                  subtype                   type                  proto  \\\n",
      "                    count unique top  freq count unique top  freq count   \n",
      "addr3                                                                     \n",
      "0                    1897      4   9   858  1897      1   1  1897  1897   \n",
      "00:0c:29:cf:08:aa       3      1   8     3     3      1   2     3     3   \n",
      "0c:9d:92:54:fe:30    7723      7   8  7663  7723      2   2  7634  7723   \n",
      "94:e9:79:82:c5:77       1      1   0     1     1      1   2     1     1   \n",
      "ff:ff:ff:ff:ff:ff       1      1   8     1     1      1   2     1     1   \n",
      "\n",
      "                          ...  PN4         PN5                    data         \\\n",
      "                  unique  ...  top  freq count unique  top  freq count unique   \n",
      "addr3                     ...                                                   \n",
      "0                      1  ...  NaN   NaN     0      0  NaN   NaN     0      0   \n",
      "00:0c:29:cf:08:aa      1  ...    0     3     3      1    0     3     3      3   \n",
      "0c:9d:92:54:fe:30      1  ...    0  7598  7599      2    0  7598  7625   5069   \n",
      "94:e9:79:82:c5:77      1  ...  NaN   NaN     0      0  NaN   NaN     0      0   \n",
      "ff:ff:ff:ff:ff:ff      1  ...    0     1     1      1    0     1     1      1   \n",
      "\n",
      "                                                                           \n",
      "                                                                 top freq  \n",
      "addr3                                                                      \n",
      "0                                                                NaN  NaN  \n",
      "00:0c:29:cf:08:aa  b'\\xe9\\xbdy\\xc3/I\\xef\\xf2\\xd1\\xb7\\x94M\\xa0\\xed...    1  \n",
      "0c:9d:92:54:fe:30  b'\\x9a\\x9f\\xe9\\xe6q\\x9c\\xad\\xa3r\\'\\x069\\xa4\\xb...   10  \n",
      "94:e9:79:82:c5:77                                                NaN  NaN  \n",
      "ff:ff:ff:ff:ff:ff  b'pl\\xef3\\xc3\\xcaR\\xcfd\\x93\\xcd\\x17R\\x10\\xbd\\x...    1  \n",
      "\n",
      "[5 rows x 108 columns] \n",
      "\n",
      "\n",
      "# Top Destination Address\n",
      "count                  9625\n",
      "unique                   10\n",
      "top       24:f5:a2:ea:86:c3\n",
      "freq                   6656\n",
      "Name: addr1, dtype: object \n",
      "\n",
      "\n",
      "# Who is Top Address Speaking to?\n",
      "['24:f5:a2:ea:86:c3' 'ff:ff:ff:ff:ff:ff' '0c:9d:92:54:fe:30'\n",
      " '00:c0:ca:a8:26:3e' '01:80:c2:00:00:0e' '01:80:c2:00:00:00'\n",
      " '0c:9d:92:71:cf:7b' '4c:9d:92:54:fe:30' '04:9d:92:54:fe:30'] \n",
      "\n",
      "\n",
      "# Associated id with top source addres\n",
      "[41344 41360 41376 ... 40096 40736 41168] \n",
      "\n",
      "\n",
      "# associated fcs with top source address\n",
      "[816948214 1034404001 1240870107 ... 2425337062 986370354 2819835884] \n",
      "\n",
      "\n"
     ]
    }
   ],
   "source": [
    "# Top Source Adddress\n",
    "print(\"# Top Source Address\")\n",
    "print(df['addr3'].describe(),'\\n\\n')\n",
    "\n",
    "print(\"# Top subtype Address of krack\")\n",
    "print(df['subtype'].describe(),'\\n\\n')\n",
    "\n",
    "print(\"# Top subtype Address of krook\")\n",
    "print(df1['subtype'].describe(),'\\n\\n')\n",
    "\n",
    "print(\"# Top Source Address\")\n",
    "print(df.groupby('addr3').describe(),'\\n\\n')\n",
    "\n",
    "\n",
    "# Top Destination Address\n",
    "print(\"# Top Destination Address\")\n",
    "print(df['addr1'].describe(),\"\\n\\n\")\n",
    "\n",
    "frequent_address = df['addr3'].describe()['top']\n",
    "\n",
    "# Who is the top address speaking to\n",
    "print(\"# Who is Top Address Speaking to?\")\n",
    "print(df[df['addr3'] == frequent_address]['addr1'].unique(),\"\\n\\n\")\n",
    "\n",
    "\n",
    "print(\"# Associated id with top source addres\")\n",
    "print(df[df['addr3'] == frequent_address]['SC'].unique(),\"\\n\\n\")\n",
    "\n",
    "\n",
    "print(\"# associated fcs with top source address\")\n",
    "print(df[df['addr3'] == frequent_address]['fcs'].unique(),\"\\n\\n\")"
   ]
  },
  {
   "cell_type": "code",
   "execution_count": 14,
   "metadata": {},
   "outputs": [
    {
     "name": "stdout",
     "output_type": "stream",
     "text": [
      "Unique Source Addresses\n",
      "['0c:9d:92:54:fe:30' 0 '00:0c:29:cf:08:aa' 'ff:ff:ff:ff:ff:ff'\n",
      " '94:e9:79:82:c5:77']\n",
      "Unique subtype Addresses\n",
      "[8 9 11 12 0 5 13 1]\n",
      "Unique subtype Addresses\n",
      "[12 8 11 9 5 4 13 10 0]\n",
      "\n",
      "Unique Destination Addresses\n",
      "['24:f5:a2:ea:86:c3' '0c:9d:92:54:fe:30' 'ff:ff:ff:ff:ff:ff'\n",
      " '00:c0:ca:a8:26:3e' '94:e9:79:82:c5:77' '01:80:c2:00:00:0e'\n",
      " '01:80:c2:00:00:00' '0c:9d:92:71:cf:7b' '4c:9d:92:54:fe:30'\n",
      " '04:9d:92:54:fe:30']\n"
     ]
    }
   ],
   "source": [
    "# Unique Source Addresses\n",
    "print(\"Unique Source Addresses\")\n",
    "print(df['addr3'].unique())\n",
    "\n",
    "print(\"Unique subtype Addresses\")\n",
    "print(df['subtype'].unique())\n",
    "\n",
    "print(\"Unique subtype Addresses\")\n",
    "print(df1['subtype'].unique())\n",
    "\n",
    "print()\n",
    "\n",
    "# Unique Destination Addresses\n",
    "print(\"Unique Destination Addresses\")\n",
    "print(df['addr1'].unique())"
   ]
  },
  {
   "cell_type": "code",
   "execution_count": 15,
   "metadata": {},
   "outputs": [
    {
     "name": "stdout",
     "output_type": "stream",
     "text": [
      "      krack  krook\n",
      "type              \n",
      "0        89     39\n",
      "1      1897  17055\n",
      "2      7639   8390\n",
      "type\n",
      "0      89\n",
      "1    1897\n",
      "2    7639\n",
      "Name: count, dtype: int64\n",
      "type\n",
      "0       39\n",
      "1    17055\n",
      "2     8390\n",
      "Name: count, dtype: int64\n"
     ]
    },
    {
     "data": {
      "text/plain": [
       "<AxesSubplot:title={'center':'frame type (Manag/control/data)'}, xlabel='type'>"
      ]
     },
     "execution_count": 15,
     "metadata": {},
     "output_type": "execute_result"
    },
    {
     "data": {
      "image/png": "[encoded data removed]",
      "text/plain": [
       "<Figure size 576x360 with 1 Axes>"
      ]
     },
     "metadata": {
      "needs_background": "light"
     },
     "output_type": "display_data"
    },
    {
     "data": {
      "image/png": "[encoded data removed]",
      "text/plain": [
       "<Figure size 576x360 with 1 Axes>"
      ]
     },
     "metadata": {
      "needs_background": "light"
     },
     "output_type": "display_data"
    }
   ],
   "source": [
    "frame_type = (df.groupby(\"type\").describe()['subtype']['count'])\n",
    "frame_type1 = (df1.groupby(\"type\").describe()['subtype']['count'])\n",
    "#frame_type= frame_type.join(frame_type1)\n",
    "data = {\"krack\": frame_type,\n",
    "        \"krook\": frame_type1,\n",
    "        }\n",
    "  \n",
    "# Concatenating the series side\n",
    "# by side as depicted by axis=1\n",
    "# If you want to concatenate the \n",
    "# series one below the other\n",
    "# change the axis to zero.\n",
    "df3 = pd.concat(data,\n",
    "               axis = 1)\n",
    "  \n",
    "# show the dataframe\n",
    "print(df3)\n",
    "print(frame_type)\n",
    "print(frame_type1)\n",
    "frame_type.plot(kind='bar', title=\"frame type (Manag/control/data)\",figsize=(8,5), color='red')\n",
    "frame_type1.plot(kind='bar', title=\"frame type (Manag/control/data)\",figsize=(8,5), color='blue')\n",
    "df3.plot(kind='bar', title=\"frame type (Manag/control/data)\",figsize=(8,5))\n",
    "\n"
   ]
  },
  {
   "cell_type": "code",
   "execution_count": 16,
   "metadata": {},
   "outputs": [
    {
     "name": "stdout",
     "output_type": "stream",
     "text": [
      "type\n",
      "0      89\n",
      "1    1897\n",
      "2    7639\n",
      "Name: count, dtype: int64\n"
     ]
    },
    {
     "data": {
      "text/plain": [
       "<AxesSubplot:title={'center':'frame type (Manag/control/data)'}, ylabel='type'>"
      ]
     },
     "execution_count": 16,
     "metadata": {},
     "output_type": "execute_result"
    },
    {
     "data": {
      "image/png": "[encoded data removed]",
      "text/plain": [
       "<Figure size 576x360 with 1 Axes>"
      ]
     },
     "metadata": {
      "needs_background": "light"
     },
     "output_type": "display_data"
    }
   ],
   "source": [
    "# Group by Source Address and Payload Sum\n",
    "frame_type = (df.groupby(\"type\").describe()['subtype']['count'])\n",
    "print(frame_type)\n",
    "frame_type.plot(kind='barh', title=\"frame type (Manag/control/data)\",figsize=(8,5), color='red')\n",
    "\n"
   ]
  },
  {
   "cell_type": "code",
   "execution_count": 55,
   "metadata": {},
   "outputs": [
    {
     "name": "stdout",
     "output_type": "stream",
     "text": [
      "type  subtype\n",
      "0     0             1\n",
      "      1             1\n",
      "      5             5\n",
      "      8            38\n",
      "      11            3\n",
      "      13           41\n",
      "1     9           858\n",
      "      11          531\n",
      "      12          494\n",
      "      13           14\n",
      "2     0             8\n",
      "      8          7629\n",
      "      12            2\n",
      "Name: count, dtype: int64\n"
     ]
    },
    {
     "data": {
      "text/plain": [
       "<AxesSubplot:title={'center':'Type of request(beacon,auth,asso....)'}, xlabel='type,subtype'>"
      ]
     },
     "execution_count": 55,
     "metadata": {},
     "output_type": "execute_result"
    },
    {
     "data": {
      "image/png": "[encoded data removed]",
      "text/plain": [
       "<Figure size 576x360 with 1 Axes>"
      ]
     },
     "metadata": {
      "needs_background": "light"
     },
     "output_type": "display_data"
    }
   ],
   "source": [
    "frame_type1 = (df.groupby([\"type\",\"subtype\"])).describe()['proto']['count']\n",
    "print(frame_type1)\n",
    "frame_type1.plot(kind='bar', label = 'subtype', title=\"Type of request(beacon,auth,asso....)\",figsize=(8,5), use_index='false')"
   ]
  },
  {
   "cell_type": "code",
   "execution_count": 56,
   "metadata": {},
   "outputs": [
    {
     "name": "stdout",
     "output_type": "stream",
     "text": [
      "               krack   krook\n",
      "type subtype                \n",
      "0    0           1.0     NaN\n",
      "     1           1.0     NaN\n",
      "     5           5.0     NaN\n",
      "     8          38.0    37.0\n",
      "     11          3.0     NaN\n",
      "     13         41.0     2.0\n",
      "1    5           NaN   335.0\n",
      "     8           NaN    36.0\n",
      "     9         858.0  4472.0\n",
      "     11        531.0  7799.0\n",
      "     12        494.0  4340.0\n",
      "     13         14.0    73.0\n",
      "2    0           8.0    31.0\n",
      "     4           NaN    24.0\n",
      "     8        7629.0  8308.0\n",
      "     10          NaN     2.0\n",
      "     12          2.0    25.0\n",
      "type  subtype\n",
      "0     0             1\n",
      "      1             1\n",
      "      5             5\n",
      "      8            38\n",
      "      11            3\n",
      "      13           41\n",
      "1     9           858\n",
      "      11          531\n",
      "      12          494\n",
      "      13           14\n",
      "2     0             8\n",
      "      8          7629\n",
      "      12            2\n",
      "Name: count, dtype: int64\n",
      "type  subtype\n",
      "0     8            37\n",
      "      13            2\n",
      "1     5           335\n",
      "      8            36\n",
      "      9          4472\n",
      "      11         7799\n",
      "      12         4340\n",
      "      13           73\n",
      "2     0            31\n",
      "      4            24\n",
      "      8          8308\n",
      "      10            2\n",
      "      12           25\n",
      "Name: count, dtype: int64\n"
     ]
    },
    {
     "data": {
      "text/plain": [
       "<AxesSubplot:title={'center':'Type of request(beacon,auth,asso....)'}, xlabel='type,subtype'>"
      ]
     },
     "execution_count": 56,
     "metadata": {},
     "output_type": "execute_result"
    },
    {
     "data": {
      "image/png": "[encoded data removed]",
      "text/plain": [
       "<Figure size 576x360 with 1 Axes>"
      ]
     },
     "metadata": {
      "needs_background": "light"
     },
     "output_type": "display_data"
    },
    {
     "data": {
      "image/png": "[encoded data removed]",
      "text/plain": [
       "<Figure size 576x360 with 1 Axes>"
      ]
     },
     "metadata": {
      "needs_background": "light"
     },
     "output_type": "display_data"
    }
   ],
   "source": [
    "#frame_type = (df.groupby(\"subtype\").describe()['type']['count'])\n",
    "frame_type = (df.groupby([\"type\",\"subtype\"])).describe()['proto']['count']\n",
    "\n",
    "#frame_type3 = (df.groupby([\"type\",\"subtype\"]))\n",
    "#frame_type1 = (df1.groupby(\"subtype\").describe()['type']['count'])\n",
    "frame_type1 = (df1.groupby([\"type\",\"subtype\"])).describe()['proto']['count']\n",
    "\n",
    "#frame_type= frame_type.join(frame_type1)\n",
    "data = {\"krack\": frame_type,\n",
    "        \"krook\": frame_type1,\n",
    "        }\n",
    "  \n",
    "# Concatenating the series side\n",
    "# by side as depicted by axis=1\n",
    "# If you want to concatenate the \n",
    "# series one below the other\n",
    "# change the axis to zero.\n",
    "df3 = pd.concat(data,\n",
    "               axis = 1)\n",
    "  \n",
    "# show the dataframe\n",
    "print(df3)\n",
    "#print(frame_type3.first())\n",
    "print(frame_type)\n",
    "print(frame_type1)\n",
    "frame_type.plot(kind='bar', title=\"Type of request(beacon,auth,asso....)\",figsize=(8,5), color='red')\n",
    "frame_type1.plot(kind='bar', title=\"Type of request(beacon,auth,asso....)\",figsize=(8,5), color='blue')\n",
    "df3.plot(kind='bar', title=\"Type of request(beacon,auth,asso....)\",figsize=(8,5))\n",
    "\n"
   ]
  },
  {
   "cell_type": "markdown",
   "metadata": {},
   "source": [
    "# Graphing"
   ]
  },
  {
   "cell_type": "code",
   "execution_count": 189,
   "metadata": {
    "scrolled": false
   },
   "outputs": [
    {
     "name": "stdout",
     "output_type": "stream",
     "text": [
      "addr3\n",
      "0                        0.000000\n",
      "00:00:0c:07:ac:15    85115.066937\n",
      "00:00:0c:07:ac:95       41.346856\n",
      "00:00:0c:af:8c:00      962.304260\n",
      "00:00:ec:4f:ac:15      896.778905\n",
      "Name: SC, dtype: float64\n"
     ]
    },
    {
     "data": {
      "text/plain": [
       "<AxesSubplot:title={'center':'source Addresses (Bytes Received)'}, ylabel='addr3'>"
      ]
     },
     "execution_count": 189,
     "metadata": {},
     "output_type": "execute_result"
    },
    {
     "data": {
      "image/png": "[encoded data removed]",
      "text/plain": [
       "<Figure size 576x360 with 1 Axes>"
      ]
     },
     "metadata": {
      "needs_background": "light"
     },
     "output_type": "display_data"
    }
   ],
   "source": [
    "# Group by Source Address and Payload Sum\n",
    "source_addresses = (df.groupby(\"addr3\")['SC'].sum()/493*16).head()\n",
    "print(source_addresses)\n",
    "source_addresses.plot(kind='barh', title=\"source Addresses (Bytes Received)\",figsize=(8,5))"
   ]
  },
  {
   "cell_type": "code",
   "execution_count": 190,
   "metadata": {},
   "outputs": [
    {
     "name": "stdout",
     "output_type": "stream",
     "text": [
      "addr1\n",
      "e0:d4:64:85:4e:7c     889584\n",
      "ea:6d:39:a3:85:3a    6908864\n",
      "f4:43:5c:3c:37:94          0\n",
      "f5:3d:dd:dd:04:77      60519\n",
      "ff:ff:ff:ff:ff:ff    4335216\n",
      "Name: SC, dtype: int64\n"
     ]
    },
    {
     "data": {
      "text/plain": [
       "<AxesSubplot:title={'center':'Destination Addresses (Bytes Received)'}, ylabel='addr1'>"
      ]
     },
     "execution_count": 190,
     "metadata": {},
     "output_type": "execute_result"
    },
    {
     "data": {
      "image/png": "[encoded data removed]",
      "text/plain": [
       "<Figure size 576x360 with 1 Axes>"
      ]
     },
     "metadata": {
      "needs_background": "light"
     },
     "output_type": "display_data"
    }
   ],
   "source": [
    "# Group by Destination Address and Payload Sum\n",
    "destination_addresses = (df.groupby(\"addr1\")['SC'].sum()).tail()\n",
    "print(destination_addresses)\n",
    "destination_addresses.plot(kind='barh', title=\"Destination Addresses (Bytes Received)\",figsize=(8,5))"
   ]
  },
  {
   "cell_type": "code",
   "execution_count": 188,
   "metadata": {},
   "outputs": [
    {
     "data": {
      "text/plain": [
       "<AxesSubplot:title={'center':'Destination Addresses (Bytes Received)'}, ylabel='addr3'>"
      ]
     },
     "execution_count": 188,
     "metadata": {},
     "output_type": "execute_result"
    },
    {
     "data": {
      "image/png": "[encoded data removed]",
      "text/plain": [
       "<Figure size 576x360 with 1 Axes>"
      ]
     },
     "metadata": {
      "needs_background": "light"
     },
     "output_type": "display_data"
    }
   ],
   "source": [
    "dest_freq=df.groupby('addr3').describe()['SC']['count']\n",
    "dest_freq.plot(kind='barh', title=\"Destination Addresses (Bytes Received)\",figsize=(8,5))"
   ]
  },
  {
   "cell_type": "code",
   "execution_count": 192,
   "metadata": {
    "scrolled": true
   },
   "outputs": [
    {
     "data": {
      "text/plain": [
       "<AxesSubplot:title={'center':'Destination Addresses (Bytes Received)'}, ylabel='addr1'>"
      ]
     },
     "execution_count": 192,
     "metadata": {},
     "output_type": "execute_result"
    },
    {
     "data": {
      "image/png": "[encoded data removed]",
      "text/plain": [
       "<Figure size 576x360 with 1 Axes>"
      ]
     },
     "metadata": {
      "needs_background": "light"
     },
     "output_type": "display_data"
    }
   ],
   "source": [
    "dest_freq=df.groupby('addr1').describe()['ID']['count']\n",
    "dest_freq.plot(kind='barh', title=\"Destination Addresses (Bytes Received)\",figsize=(8,5))"
   ]
  },
  {
   "cell_type": "code",
   "execution_count": 206,
   "metadata": {},
   "outputs": [
    {
     "data": {
      "text/plain": [
       "Text(0.5, 1.0, 'History of bytes sent by most frequent address')"
      ]
     },
     "execution_count": 206,
     "metadata": {},
     "output_type": "execute_result"
    },
    {
     "data": {
      "image/png": "[encoded data removed]",
      "text/plain": [
       "<Figure size 432x288 with 1 Axes>"
      ]
     },
     "metadata": {
      "needs_background": "light"
     },
     "output_type": "display_data"
    }
   ],
   "source": [
    "#groupby(\"time\")['payload'].sum().plot(kind='barh',title=\"Destination Ports (Bytes Received)\",figsize=(8,5))\n",
    "\n",
    "frequent_address_df = df[df['addr3'] == frequent_address]\n",
    "x = frequent_address_df['fcs'].tolist()\n",
    "sns.barplot(x=\"addr1\", y=\"fcs\", data=frequent_address_df[['fcs','addr1']],\n",
    "            label=\"Total\", color=\"b\").set_title(\"History of bytes sent by most frequent address\")\n"
   ]
  },
  {
   "cell_type": "markdown",
   "metadata": {},
   "source": [
    "# Payload Investigation"
   ]
  }
 ],
 "metadata": {
  "kernelspec": {
   "display_name": "Python 3",
   "language": "python",
   "name": "python3"
  },
  "language_info": {
   "codemirror_mode": {
    "name": "ipython",
    "version": 3
   },
   "file_extension": ".py",
   "mimetype": "text/x-python",
   "name": "python",
   "nbconvert_exporter": "python",
   "pygments_lexer": "ipython3",
   "version": "3.8.8"
  }
 },
 "nbformat": 4,
 "nbformat_minor": 2
}
