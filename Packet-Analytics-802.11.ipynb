{
 "cells": [
  {
   "cell_type": "markdown",
   "metadata": {},
   "source": [
    "# Learning Packet Analysis with Data Science"
   ]
  },
  {
   "cell_type": "code",
   "execution_count": 110,
   "metadata": {},
   "outputs": [],
   "source": [
    "from scapy.all import * # Packet manipulation\n",
    "import pandas as pd # Pandas - Create and Manipulate DataFrames\n",
    "import numpy as np # Math Stuff (don't worry only used for one line :] )\n",
    "import binascii # Binary to Ascii \n",
    "import seaborn as sns\n",
    "sns.set(color_codes=True)\n",
    "%matplotlib inline\n",
    "\n"
   ]
  },
  {
   "cell_type": "markdown",
   "metadata": {},
   "source": [
    "### The line below will attempt to sniff 10 packets\n",
    "#### You can kill the sniffing operation with the stop button in the notebook"
   ]
  },
  {
   "cell_type": "code",
   "execution_count": 111,
   "metadata": {},
   "outputs": [
    {
     "name": "stdout",
     "output_type": "stream",
     "text": [
      "<class 'scapy.plist.PacketList'>\n",
      "100\n",
      "<Sniffed: TCP:96 UDP:3 ICMP:0 Other:1>\n"
     ]
    },
    {
     "data": {
      "text/plain": [
       "<Ether  dst=01:00:5e:7f:ff:fa src=00:0e:09:86:b4:53 type=IPv4 |<IP  version=4 ihl=5 tos=0x0 len=201 id=43434 flags= frag=0 ttl=1 proto=udp chksum=0xd85d src=172.16.155.17 dst=239.255.255.250 |<UDP  sport=62322 dport=ssdp len=181 chksum=0x810e |<Raw  load='M-SEARCH * HTTP/1.1\\r\\nHOST: 239.255.255.250:1900\\r\\nMAN: \"ssdp:discover\"\\r\\nMX: 1\\r\\nST: urn:dial-multiscreen-org:service:dial:1\\r\\nUSER-AGENT: Microsoft Edge/90.0.818.66 Windows\\r\\n\\r\\n' |>>>>"
      ]
     },
     "execution_count": 111,
     "metadata": {},
     "output_type": "execute_result"
    }
   ],
   "source": [
    "num_of_packets_to_sniff = 100\n",
    "pcap = sniff(count=num_of_packets_to_sniff)\n",
    "\n",
    "# rdpcap returns packet list\n",
    "## packetlist object can be enumerated \n",
    "print(type(pcap))\n",
    "print(len(pcap))\n",
    "print(pcap)\n",
    "pcap[0]"
   ]
  },
  {
   "cell_type": "markdown",
   "metadata": {},
   "source": [
    "# Append Krack pcap to current stream"
   ]
  },
  {
   "cell_type": "code",
   "execution_count": 112,
   "metadata": {},
   "outputs": [],
   "source": [
    "# rdpcap used to Read Pcap\n",
    "pcap = pcap +  rdpcap(\"krack_small.pcap\")"
   ]
  },
  {
   "cell_type": "code",
   "execution_count": 113,
   "metadata": {},
   "outputs": [
    {
     "data": {
      "text/plain": [
       "<RadioTap  version=0 pad=0 len=23 present=TSFT+Flags+Rate+Channel+dBm_AntSignal mac_timestamp=165062 Flags=wep+fragment+FCS Rate=11.0 Mbps ChannelFrequency=2412 ChannelFlags=Turbo+2GHz+Dynamic_CCK_OFDM dBm_AntSignal=-54 dBm notdecoded='' |<Dot11FCS  subtype=QoS Data type=Data proto=0 FCfield=from-DS+MD+protected ID=29952 addr1=ea:6d:39:a3:85:3a (RA=DA) addr2=c4:b9:cd:7c:d9:e4 (TA=BSSID) addr3=00:5d:73:e4:20:07 (SA) SC=2544 fcs=0x7770a72b |<Dot11QoS  A_MSDU_Present=0 Ack_Policy=0 EOSP=0 TID=0 TXOP=0 |<Dot11CCMP  PN0=160 PN1=0 res0=0 key_id=0 ext_iv=1 res1=0 PN2=0 PN3=0 PN4=0 PN5=0 data='\\x17jC0O\\\\xe8\\\\xc4\\\\xc1\\\\x9b\\x19|\\x05\\n\\x10w]\\tN\\\\x96\\x16\\\\x96\\\\xc9Y!\\\\x8b\\\\xda8=c\\\\xb0\\\\xdb\\\\xd3յ\\\\xaf\\\\xfc\\\\xe2\\\\xf3\\\\xb3\\\\xe6\\\\xe4\\\\x91\\\\xfd\\\\xb0\\x18.\\\\xf2\\\\xf1\\\\xb0el\\\\xf8\\\\x8d\\\\xb13\\\\xf3\\r\\\\x86\\\\x9a\\\\x9a7\\\\x94\\\\x9b\\\\xd7ݏ\\\\xa1Q\\\\xec\\\\xe7)\\\\x9d\\x1f\\\\x94\\\\xb5`(\\\\x9f}E2\\x1e!\\\\\\\\xd8Hx\\\\xa1\\x0eԀ\\x15\\\\x8a\\\\x9cz\\\\xa8\\\\xebea\\x16\\\\xc7C/P\\\\xb2\\\\xe7\\\\xa1]\\\\xfc.\\\\xfd&\\x13\\\\xba\\\\xbc7>\\\\xe6\\\\xabDa]\\\\xcd\\\\xde\\\\xce+?\\\\xbc=\\\\xea赀\\\\xfb4\\\\xc9㫈c\\\\x94Os\\\\x9b\\\\x97S?8\\\\x88\\\\x83\\\\xdaM\\\\xbb,\\\\x9a\\\\xbf\\x0e\\'\\\\x9d\\\\xbb\\\\x94.U\\\\xd1*/\\\\xe4\\\\xe9$\\x07-}\\\\x8f_\\\\xe5\\x11hno!L\\\\x81S\\\\xc9\\x02\\\\xb7\\x1e\\x1dgjv;\\\\xa8\\u058c~@\\\\x89\\\\xc5\\x19\\\\x98\\\\xdcX^G\\x00\\x17\\'`\\\\xe6#\\'\\\\xc3\\\\xf3\\\\xf8-ֵƳ[\\\\x944\\\\xacoRg\\\\xd7\\x05X\\\\xef\\x06\\\\xa1 \\x10\\\\xb6x\\x1d\\x06\\\\x8c\\x18\\\\xdf\\r^f9\\\\xc3\\\\xe9\\\\xb4\\x07\\n+\\\\xcf\\x18HШW\\\\xa8y \\\\xb8\\\\xc3\\\\xd8>\\x0e\\\\xf8\\x19/\\\\xe9(\\\\xdf\\t-\\x11S\\x17\\\\xc5\\\\xec0\\\\xbe \\\\xfc[\\\\x93\\\\xca$\\\\xd8z\\x0f\\\\x80\\\\xa5\\\\xa7\\\\xc1\\\\x90\\\\xaeB\\\\xde\\\\xdbk\\\\x96-\\\\x8b\\\\xf6\\\\xad\\\\xfe5\\\\x92\\\\xc0&\\\\xbf\\\\xcf\\x7f\\\\xd5{\"o\\\\xf2\\\\xceL8\\\\xfb\\\\x9b\\\\xca\\\\xd32#\\\\xeb\\\\x9cL%Ο\\\\x9bl\\\\xe2y\\x07\\x05\\\\x85\\\\xc1Tz\\\\xa3Ꙇ=\\x0c\\\\xa5\\x1bԷ\\\\xe0 \\\\xfb\\x14o\\\\xb8f\\\\x84`\\\\xde\\\\xca?\\\\x8f\\\\xf7\\\\xf3a#\\\\xcdU\\\\xd1G\\\\xe9\\\\xdf\\\\xcaл6Ԇ\\\\xd9?\\\\xd4#S[\\\\x97\\x0e\\\\xea\\\\xf3\\x02\\x07\\x1b\\\\xb1]\\\\x83\\\\x82]vtd\\\\x91\\\\xaa\\x1bL\\x18\\\\x84\\\\xaf\\\\xc2\\\\xec9\\\\xf8\\\\x96A\\\\x8e\\\\x9c\\\\xa2l\\\\xbf\\\\x95KwK\\\\x8f\\\\xe5\\\\xd8\\\\xddI\\\\xa4\\\\xdfךؔ\\x10\\x11?\\\\xcf\\\\xe4{\\\\xf8\\x19;P\\\\xad\\\\xa6\\\\x9fƞA\\\\xe5\\\\x89O\\\\xec8z\\\\x80(\\\\xc9C\\\\xb1\\x7f\\\\xb1\\x13h\\\\xb6\\\\x8e!\\x14\\\\x85A\\\\xa5\\\\xa3\\\\xbe\\\\xb1\\\\x82R\\\\xe0\\\\xd9f\\\\x81\\\\xd7|\\\\xf5\\\\xa4Mx>\\x1f\\\\x97\\x186\\\\x96\\x1b\\\\xc5\\\\xdd\\x18\\\\x9d#n\\\\xe6\\\\xba;$\\\\xdfN\\\\xdeǙ\\\\x9c\\\\xbd\\\\x95H\\\\x93\\\\xdcJ\\\\xb6\\\\x83\\\\xbe\\\\xa8\\tMw\\\\xf1\\\\xde3\\x08\\\\x98to{j\\x00\\x1fI\\\\xd5^f6)\\\\xa7\\\\xca\\x06\\x01\\\\x83\\x19E\\\\xf4\\\\xff\\\\xb8 4\\\\xf8\\\\xe9\\\\xb9;kb\\\\xf7Д#ć\\\\xc1\\\\xd3٬c\\\\xa0\\\\xc1s\\\\xfci\\\\xd0\\x14\\\\xac\\\\xe3\\x7f\\\\x8b\\\\x97F\\\\xf4\\\\xe9S\\\\xe1\\\\xab[\\\\xc2\\x00\\\\xdac\\\\xeaG\\\\xf4=_&\\\\xc0\\\\x93u֦E\\\\xfcīn\\x1cP\\\\xef\\\\x94\\t/\\\\xe3yn{\\x04\\\\xb8\\x7fj\\\\xfa\\\\xc1\\\\x97m\\\\xc2\\\\xfdܲ\\\\xb5I\\\\xad\\x1b:\\\\x87_`\\\\xe0\\\\xb6\\\\xfa\\\\xf6\\\\xa2\\x11\\\\xfe\\\\xd6D\\\\xe2M?\\\\xa5M}_\\\\x9eJ\\x07\\\\xcc͏#\\\\x92\\x06%\\\\x97\\x0e\\\\xea\\\\xd4x\\\\xfa:\\x17\\n]\\\\x8b\\\\xd0\\x11Hŏ\\\\xf7~O71d\\\\xe1\\\\xff_m\\\\xb4!\\\\xb3\\x1a^\\x03\\\\\\\\x9a4)e\\x15?$\\x06\\\\xe3\\x00\\\\xe3\\\\xd4\\\\xe98\\\\xf7\\\\xbb\\\\xe7\\\\xe1\\\\xe8\\\\x86I\\\\xce\\\\xfe\\\\x81\\\\x91e\\\\xb5=\\\\xf3\\\\xf9\\\\xa1\\\\x96\\x0c\\\\xcd\\\\xc4\\\\xe9F\\\\xc3W\\\\xe4\\\\xdb\\x19\\\\xc9\\x07\\\\xden\"\\\\x89\\\\xec\\\\xed:ح\\x14\\x06\\\\x89\\\\x8f̙\\\\xa3d\\\\xbcuo\\\\xadGxް\\\\x86\\\\xd5\\\\xdf\\\\xd7\\\\xef\\\\xbd?\\\\xa2_Ld\\\\xf9Oө\\\\xcc\\\\xfe\\\\xbd\\\\xa3\\\\xd8\\x03\\\\xdd\\x03\\\\x88\\\\xc0\\\\xcc0\\\\xed\\\\xa1(\\\\x8a{הN\\x04\\'oE\\x1ed{h%ߥ\\\\xad\\\\x95)ea\\\\xd0\\te\\\\x9fC]W.ci\\\\xf5\\\\x82>\\x0c\\\\x9ews\\x06\\\\xec\\x0e\\\\xf7\\\\xc1\\\\xc3\\\\xc6ܥ56t\\x00uv<:9+Ƒ\\\\x82ｻ\\\\x97$\\\\x8c\\x14/\\\\xaf~Tg/XG\\\\x84D\\\\xed\\\\xf7=f\\\\xf99a걀\\\\xc4\\x11\\\\xad\\\\xc3R\\x03H\\\\xd2uX\\\\xaf\\\\x83;\\tlҰ\\\\xdd{\\\\xb5:\\x7fl\\x1b\\\\xa8\\\\x81\\\\xd0\\\\xe0\\\\xf9\\\\xedr\\\\x8f\\\\xa6Cښ\\x07\\x0c`l\\r\\\\xf3\\\\x95\\x17N\\\\x9c߃\\\\x9c\\x11\\\\x81\\\\xc5燤`3\\u07b9A\\\\xb6\\\\xa27t\\\\xe2\\x11+\\\\xfe\\\\xc7#\\\\xd0n8A>\\\\x99\\\\x99J\\\\xaf\\\\x9f\\\\xb5,\\\\x80Z\\x17\\\\x9e纳\\\\xba.w\\\\xf5(\\\\x99`uō\\\\xd2z\\\\xe5T\\\\xdf̣i\\\\xf5E$\\\\x9b\\x1c\\\\x81[\\\\xed\\x0f\"\\x06V]\\x0f\\\\xf1\\\\xedcL\\x0c\\\\xa7\\\\xd9\\\\xff\\\\x98\\x15\\\\xb5\\\\xf5?5\\\\x97\\\\xb8@%?\\\\xd1\\\\xcb\\x0b\\\\x8c\\\\xa1ZX\\\\xe8;N\\\\xdf\\\\xc9\\\\xc70\\\\xc15ѱzz\\x1c\\\\xfb\\\\xfb\\x13\\x1e\\\\xf8\\\\xbePI/\\\\xd67\\\\x84\\\\xa15@\\x03\\\\\\n\\\\xb9%\\x15\\\\xf5i\\\\xd6I\\\\xf1+as\\\\xd4\\\\xfb1\\\\xc57/\\\\xfb\\\\x9a6\\r\\\\x9a\\x12\\x0cyp\\\\xb4la\\\\x82\\\\xfeq\\\\xcd\\\\xc9E0MK\\\\xeb\\\\x81z,\\\\x98z\\\\x81?_\\\\x8a|\\\\xbcק<\\\\xe4Ng\\\\xb3f<@$\\\\xa2F\\\\xc0\\x00/\\\\xd5:\\\\xda\\\\xe2\\\\x9482\\\\xa0\\\\x89\\\\xa5\\x1d\\x02\\\\x9c<\\\\x96Eէ\\\\x8b0\\\\xf5\\\\xdb&\\\\xe4ςE\\\\xbcN\\\\xed}\\\\xbe\\\\x9a\\\\xb2\\\\xbe\\\\x8d\\\\xf9T~\\\\x97Y\\\\xa11\\\\xfa\\\\xee~\\x1e Ȼ\\\\xe6\\x03f=\\\\x80\\\\xa6-\\\\x92\\x12)(\\x1e\\\\xa2\\\\x9a\\\\xbc\\x1a\\\\xdaw\\\\xbey\\x10\\\\xb3\\r#Ŭ\\\\x85\\\\xb1\\\\xb4\\\\x84\\\\xf4qbG\\\\xdb]\\\\xc1\\x1a7\\x1fVz0\\\\xf5\\x03[k\\\\xc0w\\x1e\\\\xdc3\\x10\\\\x95\\x06\\\\xdb\\x0e\\x01\\\\x8b\\\\xfb\\\\xee\\\\xa6\\\\xef\\\\xcc\\\\xf7\\\\xc3\\\\xe7w<\\\\x9c\\\\x82\\\\xe5v\\u05cbƛ(m\\\\xce̫\\x05D\\x16\\\\x88\\x07W\\\\xa3\\\\x8fU%t\\\\xb5s|XW\\\\xfd\\\\xf6{߳\\x1eG\\x05\\\\xa9s\\\\xe2e\\\\xa5\\\\xab\\\\x93AYf?W\\\\xee\\\\xae \\\\xba\\nq\\\\xd5\\x02\\\\xb1\\\\xa5q\\\\xddB\\x1f\\\\xfd\\\\x90\\\\xb0\\x92\\\\x8f\\x19涣~\\\\x9a\\\\xb9֣RX\\\\xb4\\\\xbc\\x07\\\\xfc\\\\x81-\\\\x89N\\\\xc1\\\\xa2;U\\\\xf4\\\\xfc\\\\x85\\\\xe5\\x12f\\\\xe6\\\\xc1ͭ\\\\xc9H\\x0c\\\\x8c*j\\x03\\\\xb8_\\\\xbc\\\\xe4JE\\\\xc1\\\\xa3\\\\x97\\x0c\\\\xaf\\\\x8a\\x1e\\\\xa6\\\\xac/\\\\xfc\\\\x8d\\\\xbb\\n\\\\xea\\\\x92\\\\xfe\\x0f\\\\x8fZ*y=\\\\xf7D:\\\\xb6@JT!\\\\x8e&,GD+\\\\xa6\\\\xb2\\x1f\\\\xa7\\\\x9c>\\\\x9a\\\\xfd\\\\xca\\rh\\\\xd3\\\\xe4\\x08\\x16\\\\xb6g\\\\xfdvo\\x0b )\\\\xfa`%\\x00\\\\xa3\\x12m\\\\xe2\\x18W\\x04\\\\xfb\\\\x87\\\\x8dl\\\\x87\\x04R\\\\x98\\\\xaaY\\\\xceͪ=\\\\xa1fj6\\\\xe8\\x0bH\\\\xeb\\x13o\\\\xef\\\\xeb\\\\xac㉡\\\\xf5' |>>>>"
      ]
     },
     "execution_count": 113,
     "metadata": {},
     "output_type": "execute_result"
    }
   ],
   "source": [
    "pcap[101]"
   ]
  },
  {
   "cell_type": "markdown",
   "metadata": {},
   "source": [
    "# 802.11 FCS/QOS/CCMP Segment\n",
    "#### Frames/Packets/Segments each encapsulated layer consists of fields"
   ]
  },
  {
   "cell_type": "markdown",
   "metadata": {},
   "source": [
    "# Exploring an item in packet list"
   ]
  },
  {
   "cell_type": "code",
   "execution_count": 167,
   "metadata": {},
   "outputs": [
    {
     "name": "stdout",
     "output_type": "stream",
     "text": [
      "RadioTap / 802.11 Data QoS Data c4:b9:cd:7c:d9:e4 (TA=BSSID) > ea:6d:39:a3:85:3a (RA=DA) / Dot11QoS / Dot11CCMP\n",
      "802.11 Data QoS Data c4:b9:cd:7c:d9:e4 (TA=BSSID) > ea:6d:39:a3:85:3a (RA=DA) / Dot11QoS / Dot11CCMP\n",
      "Dot11QoS / Dot11CCMP\n",
      "Dot11CCMP\n",
      "\n",
      "###[ RadioTap ]### \n",
      "  version   = 0\n",
      "  pad       = 0\n",
      "  len       = 23\n",
      "  present   = TSFT+Flags+Rate+Channel+dBm_AntSignal\n",
      "  mac_timestamp= 167942\n",
      "  Flags     = wep+fragment+FCS\n",
      "  Rate      = 11.0 Mbps\n",
      "  ChannelFrequency= 2412\n",
      "  ChannelFlags= Turbo+2GHz+Dynamic_CCK_OFDM\n",
      "  dBm_AntSignal= -55 dBm\n",
      "  notdecoded= ''\n",
      "###[ 802.11-FCS ]### \n",
      "     subtype   = QoS Data\n",
      "     type      = Data\n",
      "     proto     = 0\n",
      "     FCfield   = from-DS+MD+protected\n",
      "     ID        = 29952\n",
      "     addr1     = ea:6d:39:a3:85:3a (RA=DA)\n",
      "     addr2     = c4:b9:cd:7c:d9:e4 (TA=BSSID)\n",
      "     addr3     = 00:5d:73:e4:20:07 (SA)\n",
      "     SC        = 2576\n",
      "     fcs       = 0xfe39c073\n",
      "###[ 802.11 QoS ]### \n",
      "        A_MSDU_Present= 0\n",
      "        Ack_Policy= 0\n",
      "        EOSP      = 0\n",
      "        TID       = 0\n",
      "        TXOP      = 0\n",
      "###[ 802.11 CCMP packet ]### \n",
      "           PN0       = 162\n",
      "           PN1       = 0\n",
      "           res0      = 0\n",
      "           key_id    = 0\n",
      "           ext_iv    = 1\n",
      "           res1      = 0\n",
      "           PN2       = 0\n",
      "           PN3       = 0\n",
      "           PN4       = 0\n",
      "           PN5       = 0\n",
      "           data      = '\\\\xc5!\\x18\\x1d\\\\x97˯\\\\x91\\t\\\\xe0\\\\x8cǇ_P\\\\x96\\\\xde.\\\\xcaM\\\\x98G\\\\xb5dS_J\\x10B\\\\xbc\\\\xdbl\\x02\\ue4e7\\x0b\\\\xf2\\x0bwr\\\\x88\\\\x9c=\\\\xd2e\\\\xd23\\x16\\\\x82\\\\xa3Ã\\x12\\\\x91.y$\\\\x98\\\\xa6\\n\\\\x99CuR\\\\xa9\\\\xa6\\\\xb9\\\\x8d+)۞\\\\xfb\\x19K\\\\xae\\\\xf2\\x7f\\\\x853\\\\xd8x\\\\x8fY\\x1c\\\\xd4\\x07#\\\\x8eTrC\\\\xfdމh\\\\x9f\\\\xb9e+\\\\xe5\\x1a\\x1e\\\\x8e^\\x10\\\\xc7\\x1b\\x12\\\\xa3\\\\xa6yAF\\x0bF\\\\xb8\\\\xcb\\x1f%\\\\xcaī=$\\\\xe4\\\\xc2E\\\\xf8\\\\xcdq\\\\xfd\\x02\\\\xa7\\\\x8d\\\\xe1\\\\xe9\\\\xa1凂\\\\x92\\x14b\\\\xfd.\\\\xa7\\\\xd2\\x17p\\x19\\\\xd8e\\x1c\\naR\\\\x92I\\\\x82\\\\x82yf\\\\xb8ꕺ\\\\xba\\\\xe0@\\x1b\\\\xc5\\\\xe2\\\\xb9[\\x02\\x07<[\\\\xe4\\x103 \\\\xf0\\\\x85I\\\\xcf6@7\\\\xd3\\x08\\\\xea\\\\xe4Ĳ~\\x0elp\\\\x95\\\\xa3eZ\\\\xf7\\\\x91X\\\\xc6-\\\\xb2|\\\\xa6R\\\\xc62ހ\\x18\\\\xed\\\\xfd\\x0b\\\\xe4\\t\\\\x91l\\\\xc0Le\\\\xd3D\\\\x89\\\\xf6\\\\xb3&\\\\xa5\\\\xceH\\\\x85/(w\\\\xf9k\\x11\\\\x8d\\\\xc0\\\\x896\\\\xd75\\\\x85\\\\xb2C\\\\xfa\\\\x86\\x10\\\\xf2\\\\x84\\\\x86>\\\\x84Sh\\\\x8f\\\\xb7b\\\\xc2\\\\xc1\\\\xf4\\x11\\\\xd08<\\\\xa3\\\\xde\\\\xd6\\x03\\\\x8cK\\\\xa2\\x14\\x0e\\\\xc1w4\\\\xac\\\\xfedt/vb)\\\\xb21\\\\x93F\\\\xf6\\x18\\x17JӪ\\\\xd8?\\\\x9c\\\\x85\\\\x8a\\\\xf1\\n\\\\x84<\\\\xa7\\x19\\x05\\x15\\\\xa5\\\\xf5\\\\xaf\\\\xd1\\nX\\\\xf9\\\\x973\\\\x92HT\\\\x9d\\\\x98\\\\xa4!\\\\xd2\\x97\\\\xbb\\\\x99\\\\xa0\\\\xa2\\\\xb7\\\\x8eh\\\\xc941\\\\xfc\\\\x8aew\\\\xab\\\\xc1\\\\xf6\\\\xe3\\\\xba\\\\xccrv\\\\x88[i`l<\\x12\\\\xa9V\\\\xd8 \\\\xe2\\x0b&\\\\xd0TGr\\\\xea\\\\xfa\\x1c\\x17\\\\xaa\\\\xffL\\x10\\\\xa5\\\\xecv\\\\xd4BUt\\\\xf7\\\\x98x1\\x13\\\\xee\\x18N\\\\x81\\x10T\\\\xb9\\\\xb8U\\\\x95]\\\\x9e\\\\x8dkʰ\\x1a\\\\xe5\\\\xd4-\\nJ\\\\xf9:^ܔ\\x13e3\\\\xbd\\t\\\\x9d\\\\xdcRv\\\\x9d\\\\x90D(Xv\\x18\\\\x85\\x02\\\\xec\\\\xe5a\\\\xab\\\\<\\x1c\\\\xc23~\\\\x88\\x08\\\\xedel\\x020Y\\\\xb8k\\\\xe4\\x02Y\\\\x88\\\\xe4\\\\xfd\\x05n\\\\xe9\\\\xf4J\\\\x950\\\\xba\\\\x9e\\\\xfeD!O\\\\xea\\x07\\\\x9c\\\\x9fJH\\\\xe5\\\\xd2C}\\\\xfd\\\\xa8J\\\\xe0\\\\xefs\\\\xf12j\\\\x92\\n\\x076\\\\xd4uɁQ\\\\xc2u\\'\\\\xcf\\x11\\\\x96\\\\xe5\\\\xc9|]\\\\xa2\\tv\\\\xb2\\\\xc7^E}6zl\\\\xcbp\\\\xc4;\\\\xe3\\\\xde\\\\xe9~H\\\\xb5Q-\\x1bfA\\\\xabA̦[\\\\x9d\\x0e\\\\xbd\\\\xaf\\x12\\x0b\\\\xff,\\\\x99\\\\xff\\\\x8f\\\\xb9h\\\\xc0\\x19\"\\\\x85\\\\xbf\\x17%6\\x11\\\\xe0\\x19\\x15\\\\xf4-\\x13\\\\xca\\\\xef\\'\\\\xe9\\\\x81 \\\\x9b>\\\\xccg\\\\xc1\\x0e\\\\x93\\\\xaa\\\\xbe>\\\\xffV\\x10\\\\xbc\\\\xa5\\\\xe5j\\x0c\\x02\\\\xfc\\\\xba\\\\xb08Uq\\\\x877\\\\xd9ZnȤ\\x0b`w\\\\xee|z\\\\xca00D\\\\xd5\\\\xc3\\\\m\\\\xb2S;\\\\xa9t\\x14\\\\xa2/\\\\x9c\\x10 \\x1d\\\\x94\\\\x8a\\\\xbc`9\\\\xd2:\\x14Q\\x19a\\x08\\'\\\\x8eU\\\\xc7\\x0e\\\\xab\\x10\\\\xae !Ǧw\\\\xbc2I\\\\x8d\\\\x8b\\\\xb8c/G2\\\\xca\\\\xe1~\\x11-\\\\xa3{Ÿ\\\\xddc\\\\x86\\\\x99\\\\xb6䄅?Ц\"\\x19\\\\xc8--H\\\\x989\\\\xd5S\\\\x86\\\\x93\\\\xce\\\\xe7\\\\xdf\\\\\\x08.N\\\\xa3\\\\xc0\\\\xf7\\x14~\\\\xae\\x18\\\\xd9\\x02\\\\xc8B\\\\xca=:\\\\xb0\\\\xc2.\\\\xc9y_^\\\\xc7\\x08۫t\\\\x9f-\\\\xbb\\\\xd9\\x1ehS\\\\xf5%7\\x7f\\\\xa5\\\\xc9a\\\\x89\\\\xe5\\\\xf5\\\\xf5\\n\\\\x89\\\\xb4\\\\xc2w\\\\xb7\\\\xa2\\x00\\x08\\\\x94\\\\xf4.\\x1d\\\\x8f\\\\xeaJ\\\\xe4\\\\xe5\\\\xf0a\\\\xebi~\\\\x9c\\\\xf7ǡ\\\\xd0N\\\\xf4Ժ\\\\x98\\\\xfb\\\\x9c\\\\xb1\\\\xf7\\\\xad\\\\x83\\x1c\\x01\\\\xd4.Tl?u\\\\x92\\\\xda\\tIu\\x02\\\\xa8Z\\\\xc0\\\\xb6\\\\xafq٧\\\\x8d\\\\xf7\\\\xf4\\\\xe5\\\\xf0@\\\\xaf\\\\xb1\\\\xb9\\x10\\\\x91\\\\xc8/ \\\\x98\\\\xa98\\\\xaeON\\\\xe0\\\\xe98X4\\\\x86\\\\x9dr\\\\x87\\ra\\\\xaf\\\\xf4\\\\xe1\\\\xa3F\\x04\\\\xc6A\\\\xa5#k\\\\xab\\\\x99\\\\xa2\\\\xb4\\\\xee\\\\x85\\\\xc4y{ʹT\\\\xe3\\\\x82fa\\\\xcd\\\\xe1\\u05ee\\\\xae\\\\xdd*\\\\xac\\\\x88\\x12\\\\xe6\\\\xd4&\\\\xce(\\\\xa0\\\\xfa>\\x01\\x10xP\\\\xbfنx&\\\\xd0\\\\xf6\\\\xbc\\\\x82\\\\xc2\\\\xca{\\\\xc0{\\\\x99\\\\xfaͪ\\x0e\\x1d\\\\xd0#\\\\x80\\\\xd36\\\\xe4\\x1f4\\\\xc3\\\\xec\\x1dR\\\\xd6$*\\\\xee&\\\\x9c\\\\xc2d;\\\\x97;\\x07M\\\\xb4g\\\\xb8M<\\x1b\\\\xc64\\\\xbf\\\\xbe\\\\xaa\\\\x9e\\\\xfcwp\\\\x85407SD#{#\\\\x8a\\\\xab#j~1\\\\x9cc\\\\x82\\\\x8f\\\\xf46\\\\xb2\\\\x9a\\\\xb1\\x1fd\\\\xfdCV\\\\xb5IW\\\\x9a\\\\xb6UάV\\\\xf0\\\\xcerxH\\\\x97(x\\\\x86\\\\xbfO\\x1f\\\\xe9\\\\x95\\\\xe2\\\\xd0ʓ\\\\xaa\\\\xd3\\\\xdbۚR\\\\xe2\\\\xda/\\\\x90\\\\xe4\\\\x92B$0\\\\xcaL\\x03\\x00\\\\xbf\\\\xb4F\\\\xaf\\\\xfd\\x15\\\\xd4a\\\\xa2`\\\\xd5j\\x05\\\\x87=\\\\xb8\\\\xfb\\x19a\\'\\\\xdf\\\\xf5\\\\xf4Ԫ9\\\\x98\\\\xf3\\\\xbdm\\x0b[\\\\xeeq\\\\xbb;\\\\x83\\\\x82$\\r\\\\xfb0\\\\xc4\\x7f\\\\xf4\\\\xbf\\\\xb7\\\\xc8\\x1d\\\\xe40\\\\xe2tj\\\\xbaTI~\\x01ꒄ\\\\xd9<\\\\xf3p\\\\x8f\\\\x9e\\\\x80w\\\\xd9lu\\\\xf8\\x05>%\\\\xa8\"\\u061d\\\\xda\\x0b\\\\xcc\\\\xf7\\\\xcf\\\\xfe9\\x19\\\\xbf\\x16A\\x15K\\\\xb6\\x18\\x00\\\\xc7\\\\xfe\\\\xf1kb\\\\xabPB\\\\xa3\\\\xddP\\x01\\\\xc2_A_\\\\xbe\\'(\\x03\\x03iK\\\\xbd\\\\xa2R\\x04\\\\xb0\\\\xa4|VK\\\\xb2N6l\\\\xc1\\\\x89\\\\x85$e\\\\xb0)H\\\\x81\\\\xa8M\\\\xa2̒ɏ\\\\xfbא\\\\x8b\\\\xf6F\\x04\\x175ٞ*7\\\\xe8\\\\xb2\\x02OX6\\\\qT\\\\xc3\\x16:>\\\\xcaYT\\n<\\\\xdc+\\x03\\\\xc0}+\\\\\\\\xfe~\\\\xc1\\\\xd0k#\\\\x96\\\\x81\\\\x8f3\\\\xcd[+H\\x04Xu\\\\xbc\\\\xc0/p9U\\\\xf8_\\tt\\\\xe9\\\\xee-\\x17\\\\xc1}twj~\\\\x87\\\\xc9W\\x12\\\\xb5\\\\{uff\\x05(b\\x1c\\x0c\\\\xf4f\\\\xae\\\\xabZ\\\\xcan\\x0eX\\\\xa8+\\\\xbe;\\\\x83$\\\\xc4pL\\x1d\\\\x97\\\\xfblN\\\\x82ɒ\\x17\\\\xf8D\\x05\\\\xf95p\\\\xe1Y\\\\xf4f<\\\\x9a\\x15\\\\xfa\\\\x8e.;\\\\xe2\\\\xe2};\\x15^\\\\x9b\\\\xc4>fb\\\\x89P\\\\x95\\\\x91Ɋ\\\\xe1 \\x05\\x14ut\\\\xb2\"\\x7f~z\\\\xd9\\\\xf9\\\\x89\\\\xf4\\\\xaeϹ\"\\\\x94p\\\\xebe\\\\xfb\\\\x9f\\\\x83\\x19\\\\xfd\\\\xbc\\\\xce1\\\\xdbzU\\\\xb6ӛ\\\\xe0E\\\\xa2\\\\xcco\\\\x8c8\\\\xb9A\\ue0c80\\\\xff\\\\x9c\\x1c\\\\xef\\\\x9d\\\\xf5\\x00\\\\xef&)\\x19\\\\x9f\\\\xa4\\\\x8dsG)\\\\xe8\\n\\\\xf9>\\\\xd90q\\x15\\\\x8ei\\'ήpy\\\\xe3\\x19;-)\\\\xd9ۦ7\\\\xfa\\x7f8\\\\x8ds\\\\x99\\\\xf2\\\\x97\\\\x8e\\\\xc2\\\\xc9\\x1d\\\\xc1P\\\\xaa\\\\xd0\\\\xd8?w\\\\x99\\\\x9e\\\\xfc\\\\xb1\\\\xedT|\\\\xf7H)\\\\xcb7\\x04\\\\xf1\\\\x960\\\\xec\\\\xfd\\\\xcbC'\n",
      "\n"
     ]
    }
   ],
   "source": [
    "# Radio -> 802.11 -> Layer 2 Segments\n",
    "# We're only interested in Layers 2 (802.11) \n",
    "## When capturing we capture layer 2 frames and beyond\n",
    "\n",
    "# Retrieving a single item from packet list\n",
    "radio_frame = pcap[103]\n",
    "wireless_packet = radio_frame.payload\n",
    "segment = wireless_packet.payload\n",
    "dot11_ccmp = segment.payload\n",
    "data = dot11_ccmp.payload # Retrieve payload that comes after layer 4\n",
    "\n",
    "# Observe that we just popped off previous layer header\n",
    "print(radio_frame.summary())\n",
    "print(wireless_packet.summary())\n",
    "print(segment.summary())\n",
    "print(dot11_ccmp.summary())\n",
    "print(data.summary()) # If blank, empty object\n",
    "\n",
    "# Complete depiction of paket\n",
    "## Achieving understanding that these are the fields will enable the ability \n",
    "## to ask the data more meaningful questions ie) type of layer 4 segment is defined in layer 3 packet\n",
    "radio_frame.show()"
   ]
  },
  {
   "cell_type": "markdown",
   "metadata": {},
   "source": [
    "### Understanding object types in scapy and Importing layers"
   ]
  },
  {
   "cell_type": "code",
   "execution_count": 118,
   "metadata": {},
   "outputs": [
    {
     "name": "stdout",
     "output_type": "stream",
     "text": [
      "<class 'scapy.layers.dot11.RadioTap'>\n",
      "<class 'scapy.layers.dot11.Dot11FCS'>\n",
      "<class 'scapy.layers.dot11.Dot11QoS'>\n",
      "<class 'scapy.layers.dot11.Dot11CCMP'>\n",
      "Radio <RadioTap from Sniffed+krack_small.pcap: TCP:0 UDP:0 ICMP:0 Other:2000>\n",
      "802.11 <Dot11FCS from Sniffed+krack_small.pcap: TCP:0 UDP:0 ICMP:0 Other:1319>\n",
      "QoS <Dot11QoS from Sniffed+krack_small.pcap: TCP:0 UDP:0 ICMP:0 Other:563>\n",
      "CCMP <Dot11CCMP from Sniffed+krack_small.pcap: TCP:0 UDP:0 ICMP:0 Other:537>\n"
     ]
    }
   ],
   "source": [
    "# Understanding the object types in scapy\n",
    "print(type(radio_frame))\n",
    "print(type(wireless_packet))\n",
    "print(type(segment))\n",
    "print(type(dot11_ccmp))\n",
    "\n",
    "\n",
    "# Packets can be filtered on layers ie) radio_frame[scapy.layers.l2.Ether]\n",
    "radio_type = type(radio_frame)\n",
    "wireless_type = type(wireless_packet)\n",
    "qos_type = type(segment)\n",
    "ccmp_type = type(dot11_ccmp)\n",
    "print(\"Radio\",pcap[radio_type])\n",
    "print(\"802.11\", pcap[wireless_type])\n",
    "print(\"QoS\", pcap[qos_type])\n",
    "print(\"CCMP\", pcap[ccmp_type])\n",
    "\n",
    "# Scapy provides this via import statements\n",
    "from scapy.layers.dot11 import RadioTap\n",
    "from scapy.layers.dot11 import Dot11FCS\n",
    "from scapy.layers.dot11 import Dot11QoS\n",
    "from scapy.layers.dot11 import Dot11CCMP\n",
    "\n"
   ]
  },
  {
   "cell_type": "markdown",
   "metadata": {},
   "source": [
    "# Convert PCAP to DataFrame"
   ]
  },
  {
   "cell_type": "code",
   "execution_count": 134,
   "metadata": {},
   "outputs": [
    {
     "name": "stdout",
     "output_type": "stream",
     "text": [
      "['subtype', 'type', 'proto', 'cfe', 'FCfield', 'ID', 'addr1', 'addr2', 'addr3', 'SC', 'addr4', 'fcs']\n",
      "['subtype', 'type', 'proto', 'cfe', 'FCfield', 'ID', 'addr1', 'addr2', 'addr3', 'SC', 'addr4', 'fcs', 'A_MSDU_Present', 'Ack_Policy', 'EOSP', 'TID', 'TXOP', 'PN0', 'PN1', 'res0', 'key_id', 'ext_iv', 'res1', 'PN2', 'PN3', 'PN4', 'PN5', 'data']\n"
     ]
    }
   ],
   "source": [
    "# Collect field names from FCS/QoS/CCMP (These will be columns in DF)\n",
    "fcs_fields = [field.name for field in Dot11FCS().fields_desc]\n",
    "qos_fields = [field.name for field in Dot11QoS().fields_desc]\n",
    "ccmp_fields = [field.name for field in Dot11CCMP().fields_desc]\n",
    "print(fcs_fields)\n",
    "dataframe_fields = fcs_fields  + qos_fields + ccmp_fields\n",
    "print(dataframe_fields)\n",
    "# Create blank DataFrame\n",
    "df = pd.DataFrame(columns=dataframe_fields)\n",
    "for packet in pcap[Dot11FCS]:\n",
    "    # Field array for each row of DataFrame\n",
    "    field_values = []\n",
    "    # Add all IP fields to dataframe\n",
    "    for field in fcs_fields:\n",
    "        #print(field)\n",
    "        try:\n",
    "            if field == 'cfe' or field == 'addr4':\n",
    "                # Retrieving number of options defined in IP Header\n",
    "                #field_values.append(len(packet[Dot11FCS].fields[field]))\n",
    "                field_values.append(1)\n",
    "            else:\n",
    "                field_values.append(packet[Dot11FCS].fields[field])\n",
    "        except: \n",
    "            field_values.append(0)\n",
    "    #field_values.append(packet.time)\n",
    "    \n",
    "    layer_type = type(packet[Dot11FCS].payload)\n",
    "    #print('--->')\n",
    "    #print(layer_type)\n",
    "    for field in qos_fields:\n",
    "        try:\n",
    "            field_values.append(packet[layer_type].fields[field])\n",
    "        except: \n",
    "            field_values.append(0)\n",
    "       \n",
    "    layer_type1 = type(packet[Dot11FCS].payload.payload)    \n",
    "    #print(layer_type1)\n",
    "    #print('--->')\n",
    "    for field in ccmp_fields:\n",
    "        try:\n",
    "            field_values.append(packet[layer_type1].fields[field])\n",
    "        except:\n",
    "            field_values.append(None)\n",
    "    \n",
    "    # Add row to DF\n",
    "    df_append = pd.DataFrame([field_values], columns=dataframe_fields)\n",
    "    df = pd.concat([df, df_append], axis=0)\n",
    "\n",
    "# Reset Index\n",
    "df = df.reset_index()\n",
    "# Drop old index column\n",
    "df = df.drop(columns=\"index\")"
   ]
  },
  {
   "cell_type": "markdown",
   "metadata": {},
   "source": [
    "### DataFrame Basics"
   ]
  },
  {
   "cell_type": "code",
   "execution_count": 135,
   "metadata": {
    "scrolled": true
   },
   "outputs": [
    {
     "name": "stdout",
     "output_type": "stream",
     "text": [
      "subtype                                                           8\n",
      "type                                                              2\n",
      "proto                                                             0\n",
      "cfe                                                               1\n",
      "FCfield                                        from-DS+MD+protected\n",
      "ID                                                            29952\n",
      "addr1                                             ea:6d:39:a3:85:3a\n",
      "addr2                                             c4:b9:cd:7c:d9:e4\n",
      "addr3                                             00:5d:73:e4:20:07\n",
      "SC                                                             2544\n",
      "addr4                                                             1\n",
      "fcs                                                      2003871531\n",
      "A_MSDU_Present                                                    0\n",
      "Ack_Policy                                                        0\n",
      "EOSP                                                              0\n",
      "TID                                                               0\n",
      "TXOP                                                              0\n",
      "PN0                                                             160\n",
      "PN1                                                               0\n",
      "res0                                                              0\n",
      "key_id                                                            0\n",
      "ext_iv                                                            1\n",
      "res1                                                              0\n",
      "PN2                                                               0\n",
      "PN3                                                               0\n",
      "PN4                                                               0\n",
      "PN5                                                               0\n",
      "data              b'\\x17jC0O\\xe8\\xc4\\xc1\\x9b\\x19|\\x05\\n\\x10w]\\tN...\n",
      "Name: 0, dtype: object\n",
      "(1319, 28)\n"
     ]
    },
    {
     "data": {
      "text/html": [
       "<div>\n",
       "<style scoped>\n",
       "    .dataframe tbody tr th:only-of-type {\n",
       "        vertical-align: middle;\n",
       "    }\n",
       "\n",
       "    .dataframe tbody tr th {\n",
       "        vertical-align: top;\n",
       "    }\n",
       "\n",
       "    .dataframe thead th {\n",
       "        text-align: right;\n",
       "    }\n",
       "</style>\n",
       "<table border=\"1\" class=\"dataframe\">\n",
       "  <thead>\n",
       "    <tr style=\"text-align: right;\">\n",
       "      <th></th>\n",
       "      <th>ID</th>\n",
       "      <th>addr1</th>\n",
       "      <th>addr2</th>\n",
       "      <th>fcs</th>\n",
       "      <th>PN0</th>\n",
       "    </tr>\n",
       "  </thead>\n",
       "  <tbody>\n",
       "    <tr>\n",
       "      <th>0</th>\n",
       "      <td>29952</td>\n",
       "      <td>ea:6d:39:a3:85:3a</td>\n",
       "      <td>c4:b9:cd:7c:d9:e4</td>\n",
       "      <td>2003871531</td>\n",
       "      <td>160</td>\n",
       "    </tr>\n",
       "    <tr>\n",
       "      <th>1</th>\n",
       "      <td>29952</td>\n",
       "      <td>ea:6d:39:a3:85:3a</td>\n",
       "      <td>c4:b9:cd:7c:d9:e4</td>\n",
       "      <td>2935172062</td>\n",
       "      <td>161</td>\n",
       "    </tr>\n",
       "    <tr>\n",
       "      <th>2</th>\n",
       "      <td>29952</td>\n",
       "      <td>ea:6d:39:a3:85:3a</td>\n",
       "      <td>c4:b9:cd:7c:d9:e4</td>\n",
       "      <td>4265197683</td>\n",
       "      <td>162</td>\n",
       "    </tr>\n",
       "    <tr>\n",
       "      <th>3</th>\n",
       "      <td>29952</td>\n",
       "      <td>ea:6d:39:a3:85:3a</td>\n",
       "      <td>c4:b9:cd:7c:d9:e4</td>\n",
       "      <td>4124576176</td>\n",
       "      <td>163</td>\n",
       "    </tr>\n",
       "    <tr>\n",
       "      <th>4</th>\n",
       "      <td>29952</td>\n",
       "      <td>ea:6d:39:a3:85:3a</td>\n",
       "      <td>c4:b9:cd:7c:d9:e4</td>\n",
       "      <td>3512848044</td>\n",
       "      <td>164</td>\n",
       "    </tr>\n",
       "    <tr>\n",
       "      <th>...</th>\n",
       "      <td>...</td>\n",
       "      <td>...</td>\n",
       "      <td>...</td>\n",
       "      <td>...</td>\n",
       "      <td>...</td>\n",
       "    </tr>\n",
       "    <tr>\n",
       "      <th>1314</th>\n",
       "      <td>0</td>\n",
       "      <td>ff:ff:ff:ff:ff:ff</td>\n",
       "      <td>74:da:88:06:8e:4e</td>\n",
       "      <td>4223304063</td>\n",
       "      <td>None</td>\n",
       "    </tr>\n",
       "    <tr>\n",
       "      <th>1315</th>\n",
       "      <td>0</td>\n",
       "      <td>ff:ff:ff:ff:ff:ff</td>\n",
       "      <td>c4:b9:cd:7d:17:53</td>\n",
       "      <td>2183463914</td>\n",
       "      <td>None</td>\n",
       "    </tr>\n",
       "    <tr>\n",
       "      <th>1316</th>\n",
       "      <td>0</td>\n",
       "      <td>ff:ff:ff:ff:ff:ff</td>\n",
       "      <td>74:da:88:06:8e:4e</td>\n",
       "      <td>3440543327</td>\n",
       "      <td>None</td>\n",
       "    </tr>\n",
       "    <tr>\n",
       "      <th>1317</th>\n",
       "      <td>0</td>\n",
       "      <td>ff:ff:ff:ff:ff:ff</td>\n",
       "      <td>c4:b9:cd:7d:34:64</td>\n",
       "      <td>3435773323</td>\n",
       "      <td>None</td>\n",
       "    </tr>\n",
       "    <tr>\n",
       "      <th>1318</th>\n",
       "      <td>0</td>\n",
       "      <td>ff:ff:ff:ff:ff:ff</td>\n",
       "      <td>c4:b9:cd:7d:34:63</td>\n",
       "      <td>3128506745</td>\n",
       "      <td>None</td>\n",
       "    </tr>\n",
       "  </tbody>\n",
       "</table>\n",
       "<p>1319 rows × 5 columns</p>\n",
       "</div>"
      ],
      "text/plain": [
       "         ID              addr1              addr2         fcs   PN0\n",
       "0     29952  ea:6d:39:a3:85:3a  c4:b9:cd:7c:d9:e4  2003871531   160\n",
       "1     29952  ea:6d:39:a3:85:3a  c4:b9:cd:7c:d9:e4  2935172062   161\n",
       "2     29952  ea:6d:39:a3:85:3a  c4:b9:cd:7c:d9:e4  4265197683   162\n",
       "3     29952  ea:6d:39:a3:85:3a  c4:b9:cd:7c:d9:e4  4124576176   163\n",
       "4     29952  ea:6d:39:a3:85:3a  c4:b9:cd:7c:d9:e4  3512848044   164\n",
       "...     ...                ...                ...         ...   ...\n",
       "1314      0  ff:ff:ff:ff:ff:ff  74:da:88:06:8e:4e  4223304063  None\n",
       "1315      0  ff:ff:ff:ff:ff:ff  c4:b9:cd:7d:17:53  2183463914  None\n",
       "1316      0  ff:ff:ff:ff:ff:ff  74:da:88:06:8e:4e  3440543327  None\n",
       "1317      0  ff:ff:ff:ff:ff:ff  c4:b9:cd:7d:34:64  3435773323  None\n",
       "1318      0  ff:ff:ff:ff:ff:ff  c4:b9:cd:7d:34:63  3128506745  None\n",
       "\n",
       "[1319 rows x 5 columns]"
      ]
     },
     "execution_count": 135,
     "metadata": {},
     "output_type": "execute_result"
    }
   ],
   "source": [
    "# Retrieve first row from DataFrame\n",
    "print(df.iloc[0])\n",
    "\n",
    "print(df.shape)\n",
    "\n",
    "# Return first 5 rows\n",
    "df.head()\n",
    "\n",
    "# Return last 5 rows\n",
    "df.tail()\n",
    "\n",
    "# Return the Source Address for all rows\n",
    "df['addr1']\n",
    "\n",
    "# Return Src Address, Dst Address, Src Port, Dst Port\n",
    "df[['ID','addr1','addr2','fcs','PN0']]"
   ]
  },
  {
   "cell_type": "markdown",
   "metadata": {},
   "source": [
    "# Statistics"
   ]
  },
  {
   "cell_type": "code",
   "execution_count": 194,
   "metadata": {
    "scrolled": false
   },
   "outputs": [
    {
     "name": "stdout",
     "output_type": "stream",
     "text": [
      "# Top Source Address\n",
      "count     1319\n",
      "unique      30\n",
      "top          0\n",
      "freq       493\n",
      "Name: addr3, dtype: int64 \n",
      "\n",
      "\n",
      "# Top Source Address\n",
      "                  subtype                  type                 proto         \\\n",
      "                    count unique top freq count unique top freq count unique   \n",
      "addr3                                                                          \n",
      "0                     493      4  11  347   493      1   1  493   493      2   \n",
      "00:00:0c:07:ac:15     100      1   8  100   100      1   2  100   100      1   \n",
      "00:00:0c:07:ac:95       1      1   8    1     1      1   2    1     1      1   \n",
      "00:00:0c:af:8c:00       1      1   8    1     1      1   2    1     1      1   \n",
      "00:00:ec:4f:ac:15       1      1   8    1     1      1   2    1     1      1   \n",
      "00:00:ff:bc:c0:98       1      1   8    1     1      1   2    1     1      1   \n",
      "00:5d:73:e4:20:07     303      2   8  302   303      1   2  303   303      1   \n",
      "25:5d:bf:0b:5a:10       1      1   8    1     1      1   2    1     1      1   \n",
      "71:e6:11:4b:16:4a       1      1   0    1     1      1   0    1     1      1   \n",
      "74:da:88:06:8e:4e      18      1   8   18    18      1   0   18    18      1   \n",
      "80:00:0b:8a:a7:23       1      1   0    1     1      1   2    1     1      1   \n",
      "8a:4b:d5:67:a4:d4      43      1   8   43    43      1   2   43    43      1   \n",
      "8e:a1:e2:2b:15:cf       1      1   0    1     1      1   0    1     1      1   \n",
      "a1:96:75:58:1c:b9       1      1   9    1     1      1   0    1     1      1   \n",
      "a8:65:72:e4:20:07       1      1   8    1     1      1   2    1     1      1   \n",
      "c4:b9:cd:7c:d9:e3      28      2   5   22    28      1   0   28    28      1   \n",
      "c4:b9:cd:7c:d9:e4      30      2   5   26    30      1   0   30    30      1   \n",
      "c4:b9:cd:7d:17:53      24      1   8   24    24      1   0   24    24      1   \n",
      "c4:b9:cd:7d:17:54      19      1   8   19    19      1   0   19    19      1   \n",
      "c4:b9:cd:7d:2b:a3       4      1   8    4     4      1   0    4     4      1   \n",
      "c4:b9:cd:7d:2b:a4       2      1   8    2     2      1   0    2     2      1   \n",
      "c4:b9:cd:7d:34:63      13      2   8   12    13      1   0   13    13      1   \n",
      "c4:b9:cd:7d:34:64      11      2   8   10    11      1   0   11    11      1   \n",
      "c4:b9:cd:7d:39:93      21      2   8   11    21      1   0   21    21      1   \n",
      "c4:b9:cd:7d:39:94      25      3   8   11    25      2   0   22    25      1   \n",
      "c4:e9:84:c3:e2:88      23      3   8   17    23      2   0   19    23      1   \n",
      "cc:11:a2:b5:55:48       1      1   8    1     1      1   2    1     1      1   \n",
      "d3:6e:01:b6:64:90       1      1   0    1     1      1   2    1     1      1   \n",
      "d8:0f:99:6c:16:4a     144      3   8  119   144      2   2  106   144      1   \n",
      "ff:ff:ff:ff:ff:ff       6      1   4    6     6      1   0    6     6      1   \n",
      "\n",
      "                   ...  PN4        PN5                   data         \\\n",
      "                   ...  top freq count unique  top freq count unique   \n",
      "addr3              ...                                                 \n",
      "0                  ...  NaN  NaN     0      0  NaN  NaN     0      0   \n",
      "00:00:0c:07:ac:15  ...    0   98    98      2    0   97    99     64   \n",
      "00:00:0c:07:ac:95  ...  NaN  NaN     0      0  NaN  NaN     0      0   \n",
      "00:00:0c:af:8c:00  ...    0    1     1      1    0    1     1      1   \n",
      "00:00:ec:4f:ac:15  ...    0    1     1      1    0    1     1      1   \n",
      "00:00:ff:bc:c0:98  ...    0    1     1      1    0    1     1      1   \n",
      "00:5d:73:e4:20:07  ...    0  301   301      1    0  301   302    210   \n",
      "25:5d:bf:0b:5a:10  ...  NaN  NaN     0      0  NaN  NaN     0      0   \n",
      "71:e6:11:4b:16:4a  ...  NaN  NaN     0      0  NaN  NaN     0      0   \n",
      "74:da:88:06:8e:4e  ...  NaN  NaN     0      0  NaN  NaN     0      0   \n",
      "80:00:0b:8a:a7:23  ...  NaN  NaN     0      0  NaN  NaN     0      0   \n",
      "8a:4b:d5:67:a4:d4  ...    0   43    43      1    0   43    43     43   \n",
      "8e:a1:e2:2b:15:cf  ...  NaN  NaN     0      0  NaN  NaN     0      0   \n",
      "a1:96:75:58:1c:b9  ...  NaN  NaN     0      0  NaN  NaN     0      0   \n",
      "a8:65:72:e4:20:07  ...    0    1     1      1    0    1     1      1   \n",
      "c4:b9:cd:7c:d9:e3  ...  NaN  NaN     0      0  NaN  NaN     0      0   \n",
      "c4:b9:cd:7c:d9:e4  ...  NaN  NaN     0      0  NaN  NaN     0      0   \n",
      "c4:b9:cd:7d:17:53  ...  NaN  NaN     0      0  NaN  NaN     0      0   \n",
      "c4:b9:cd:7d:17:54  ...  NaN  NaN     0      0  NaN  NaN     0      0   \n",
      "c4:b9:cd:7d:2b:a3  ...  NaN  NaN     0      0  NaN  NaN     0      0   \n",
      "c4:b9:cd:7d:2b:a4  ...  NaN  NaN     0      0  NaN  NaN     0      0   \n",
      "c4:b9:cd:7d:34:63  ...  NaN  NaN     0      0  NaN  NaN     0      0   \n",
      "c4:b9:cd:7d:34:64  ...  NaN  NaN     0      0  NaN  NaN     0      0   \n",
      "c4:b9:cd:7d:39:93  ...  NaN  NaN     0      0  NaN  NaN     0      0   \n",
      "c4:b9:cd:7d:39:94  ...  NaN  NaN     0      0  NaN  NaN     0      0   \n",
      "c4:e9:84:c3:e2:88  ...    0    2     2      1    0    2     2      2   \n",
      "cc:11:a2:b5:55:48  ...  NaN  NaN     0      0  NaN  NaN     1      1   \n",
      "d3:6e:01:b6:64:90  ...  NaN  NaN     0      0  NaN  NaN     0      0   \n",
      "d8:0f:99:6c:16:4a  ...    0   86    86      1    0   86    86     45   \n",
      "ff:ff:ff:ff:ff:ff  ...  NaN  NaN     0      0  NaN  NaN     0      0   \n",
      "\n",
      "                                                                           \n",
      "                                                                 top freq  \n",
      "addr3                                                                      \n",
      "0                                                                NaN  NaN  \n",
      "00:00:0c:07:ac:15  b\"g\\xdcc=\\x050\\xc4X\\xebNT7x \\xb3\\x085H\\x91f\\x8...    5  \n",
      "00:00:0c:07:ac:95                                                NaN  NaN  \n",
      "00:00:0c:af:8c:00  b'\\x16\\xf1c\\xb0\\x9d\\x97\\x95=U\\x97k\\'\\x0e\\x8c\\x...    1  \n",
      "00:00:ec:4f:ac:15  b'K\\xe4\\x01\\x87T\\x02\\x83\\xd6;0\\x8f\\xb8K\\x95p\\x...    1  \n",
      "00:00:ff:bc:c0:98  b'\\x9b\\x88\\x9b\\xe4B\\xda\\xccKx\\x81\\x97*n\\xc5\\xb...    1  \n",
      "00:5d:73:e4:20:07  b'\\xa1\\xe6\\x97\"\\xe0\\xeb\\xb0\\x9a>=\\xcc\\x8c}}g0^...    8  \n",
      "25:5d:bf:0b:5a:10                                                NaN  NaN  \n",
      "71:e6:11:4b:16:4a                                                NaN  NaN  \n",
      "74:da:88:06:8e:4e                                                NaN  NaN  \n",
      "80:00:0b:8a:a7:23                                                NaN  NaN  \n",
      "8a:4b:d5:67:a4:d4  b'<\\xa4\\x99u\\xe8@\\xb6\\x81\\xf6^\\xec\\xba\\x0c\\xef...    1  \n",
      "8e:a1:e2:2b:15:cf                                                NaN  NaN  \n",
      "a1:96:75:58:1c:b9                                                NaN  NaN  \n",
      "a8:65:72:e4:20:07  b\"\\t\\x16s&\\x89p\\xffG\\xc3\\x92\\xfb\\xa6k\\xc89j\\x0...    1  \n",
      "c4:b9:cd:7c:d9:e3                                                NaN  NaN  \n",
      "c4:b9:cd:7c:d9:e4                                                NaN  NaN  \n",
      "c4:b9:cd:7d:17:53                                                NaN  NaN  \n",
      "c4:b9:cd:7d:17:54                                                NaN  NaN  \n",
      "c4:b9:cd:7d:2b:a3                                                NaN  NaN  \n",
      "c4:b9:cd:7d:2b:a4                                                NaN  NaN  \n",
      "c4:b9:cd:7d:34:63                                                NaN  NaN  \n",
      "c4:b9:cd:7d:34:64                                                NaN  NaN  \n",
      "c4:b9:cd:7d:39:93                                                NaN  NaN  \n",
      "c4:b9:cd:7d:39:94                                                NaN  NaN  \n",
      "c4:e9:84:c3:e2:88  b\"\\x96'\\xa0\\x1e$^\\x01\\xc6o\\xc8\\x81\\xf3\\xb8l\\xc...    1  \n",
      "cc:11:a2:b5:55:48  b'\\n\\xee\\xa42\\x00\\x00\\x00\\x003,\\xc5zY\\x11\\x9b\\...    1  \n",
      "d3:6e:01:b6:64:90                                                NaN  NaN  \n",
      "d8:0f:99:6c:16:4a  b'9\\xf8\\x0f\\xcf\\xcf8\\xe09iv\\xd7k,/\\x84t\\x1c\\xb...    9  \n",
      "ff:ff:ff:ff:ff:ff                                                NaN  NaN  \n",
      "\n",
      "[30 rows x 108 columns] \n",
      "\n",
      "\n",
      "# Top Destination Address\n",
      "count                  1319\n",
      "unique                   26\n",
      "top       c4:b9:cd:7d:39:94\n",
      "freq                    347\n",
      "Name: addr1, dtype: object \n",
      "\n",
      "\n",
      "# Who is Top Address Speaking to?\n",
      "['ea:6d:39:a3:85:3a' 'c4:e9:84:c3:e2:88' 'cc:52:af:8e:85:f9'\n",
      " '80:00:0b:8a:a7:23' 'c4:b9:cd:7d:39:94' 'd8:0f:99:6c:16:4a'\n",
      " '4c:f2:02:11:fd:93' 'ff:ff:ff:ff:ff:ff' 'e0:d4:64:85:4e:7c'\n",
      " 'b4:c4:fc:a0:89:cc' '30:fc:eb:9d:92:9e' 'f4:43:5c:3c:37:94'\n",
      " '3a:da:3f:82:0c:7d'] \n",
      "\n",
      "\n"
     ]
    },
    {
     "name": "stdout",
     "output_type": "stream",
     "text": [
      "# Associated id with top source addres\n",
      "[0] \n",
      "\n",
      "\n",
      "# associated fcs with top source address\n",
      "[4250826956 1488449508 3902793920 1938534653 2664564422 2668653809\n",
      " 2626992287 2610761795 229903860 3044857846 1356907405 3510090426\n",
      " 2641369083 296589522 996509355 2667799934 1344921719 4224802836\n",
      " 1436615859 3500508383 1367757126 3508859193 2071183467 382724154\n",
      " 1010465047 475942475 1665203516 2181745777 297718609 3445084065\n",
      " 3275292181 3835068413 2355494341 2882239533 1568864693 2049734749\n",
      " 316668517 896629645 624817940 1576631824 43218684 1784739012 1305376044\n",
      " 2619961692 4107989860 1343516451 3799904015 2602494342 917233510\n",
      " 4251507704 2509986240 2989873192 126631932 1631454096 665784429\n",
      " 4199552498 1996579604 102789 1210768989 2259675749 1760695229 2228212579\n",
      " 394174113 2398558908 2841221972 2486238743 2805377760 3485804760\n",
      " 3899369776 965520704 2650035321 593934465 2722458904 995625471 1993453200\n",
      " 1093903329 2975236261 3750339649 1072085667 2429855633 1274420713\n",
      " 2957885091 499252231 744524484 3888466299 1811164271 1379202182\n",
      " 3795475375 384757502 2504997240 1996537105 3210435756 1353596153\n",
      " 3979257306 1973868965 4157110372 3656434762 3456000394 3206089894\n",
      " 1174784880 909283189 2076829713 3889531653 1998562494 3229289197\n",
      " 3598700823 2600171978 1268284317 4192383026 2101468767 1060216042\n",
      " 1159313281 2390942209 4204603038 3811682693 3043811019 3717828310\n",
      " 437442867 2827520213 3461317032 531138008 958101511 2401634621 2832413220\n",
      " 2670804821 113025071 554836423 4042597815 2674558372 1504522086\n",
      " 3099853900 285079054 1805591758 1203726430 1885168943 3198446235\n",
      " 433617151 3703860259 3337531988 3373514660 1082716292 3495806608\n",
      " 3047497075 29016800 3222358537 2117227675 1238391274 2229878514 531809694\n",
      " 4130471182 1763901500 1426995842 1236932878 4233506899 3704564065\n",
      " 3267710784 1972839344 2334088007 1728957247 3365615009 3081887828\n",
      " 1562452648 115808990 54992037 3702888142 1834165852 1697210773 3306933931\n",
      " 1578079894 2430672824 586450660 2626244711 3139948943 1235987387\n",
      " 994787964 4223806359 1140819889 1827691101 1683031641 1342645408\n",
      " 2898567428 2968032747 211977313 1725434914 385456248 3007001994\n",
      " 1281411166 2551124801 99795280 227192148 3311985464 1969018182 1786060439\n",
      " 585616743 2338436008 2640534648 2076130118 3818704932 3565083989\n",
      " 2251370537 2839812848 3163381613 4048642586 1788980788 3571698541\n",
      " 2013612057 1947447291 1144334177 1146482955 370117177 1498581481\n",
      " 410558979 3705318281 4285600994 2426209992 2185207278 2464571859\n",
      " 670899794 2301578873 1575467450 2152868033 2828163733 3143820448\n",
      " 3914232934 2864283206 4151252445 3200836371 2521876241 917838028\n",
      " 2826869396 3547646786 3629750145 3166409110 3049715502] \n",
      "\n",
      "\n"
     ]
    }
   ],
   "source": [
    "# Top Source Adddress\n",
    "print(\"# Top Source Address\")\n",
    "print(df['addr3'].describe(),'\\n\\n')\n",
    "\n",
    "print(\"# Top Source Address\")\n",
    "print(df.groupby('addr3').describe(),'\\n\\n')\n",
    "\n",
    "\n",
    "# Top Destination Address\n",
    "print(\"# Top Destination Address\")\n",
    "print(df['addr1'].describe(),\"\\n\\n\")\n",
    "\n",
    "frequent_address = df['addr3'].describe()['top']\n",
    "\n",
    "# Who is the top address speaking to\n",
    "print(\"# Who is Top Address Speaking to?\")\n",
    "print(df[df['addr3'] == frequent_address]['addr1'].unique(),\"\\n\\n\")\n",
    "\n",
    "\n",
    "print(\"# Associated id with top source addres\")\n",
    "print(df[df['addr3'] == frequent_address]['SC'].unique(),\"\\n\\n\")\n",
    "\n",
    "\n",
    "print(\"# associated fcs with top source address\")\n",
    "print(df[df['addr3'] == frequent_address]['fcs'].unique(),\"\\n\\n\")"
   ]
  },
  {
   "cell_type": "code",
   "execution_count": 140,
   "metadata": {},
   "outputs": [
    {
     "name": "stdout",
     "output_type": "stream",
     "text": [
      "Unique Source Addresses\n",
      "['00:5d:73:e4:20:07' 'c4:b9:cd:7c:d9:e3' 'c4:b9:cd:7c:d9:e4' 0\n",
      " '00:00:0c:07:ac:15' 'c4:e9:84:c3:e2:88' 'd8:0f:99:6c:16:4a'\n",
      " '8a:4b:d5:67:a4:d4' 'c4:b9:cd:7d:39:94' 'c4:b9:cd:7d:39:93'\n",
      " 'd3:6e:01:b6:64:90' 'c4:b9:cd:7d:2b:a3' 'c4:b9:cd:7d:2b:a4'\n",
      " '74:da:88:06:8e:4e' 'c4:b9:cd:7d:34:63' 'c4:b9:cd:7d:17:53'\n",
      " 'c4:b9:cd:7d:34:64' 'c4:b9:cd:7d:17:54' 'ff:ff:ff:ff:ff:ff'\n",
      " 'a1:96:75:58:1c:b9' 'a8:65:72:e4:20:07' '25:5d:bf:0b:5a:10'\n",
      " '00:00:0c:af:8c:00' '71:e6:11:4b:16:4a' '80:00:0b:8a:a7:23'\n",
      " 'cc:11:a2:b5:55:48' '00:00:ec:4f:ac:15' '00:00:ff:bc:c0:98'\n",
      " '00:00:0c:07:ac:95' '8e:a1:e2:2b:15:cf']\n",
      "\n",
      "Unique Destination Addresses\n",
      "['ea:6d:39:a3:85:3a' 'ff:ff:ff:ff:ff:ff' 'c4:e9:84:c3:e2:88'\n",
      " 'cc:52:af:8e:85:f9' '80:00:0b:8a:a7:23' 'c4:b9:cd:7d:39:94'\n",
      " 'd8:0f:99:6c:16:4a' 'df:07:b2:81:db:33' '4c:f2:02:11:fd:93'\n",
      " 'b4:c4:fc:a0:89:cc' 'c0:cb:38:26:e5:a1' 'a6:ad:1a:04:10:44'\n",
      " 'da:a1:19:a6:75:1e' '4c:f2:02:11:fd:1d' '1c:c3:45:94:cb:49'\n",
      " 'e0:d4:64:85:4e:7c' 'cf:62:90:2a:d4:cf' '01:00:5e:7f:ff:fa'\n",
      " '30:fc:eb:9d:92:9e' '3a:da:3f:82:0c:7d' 'f4:43:5c:3c:37:94'\n",
      " '76:e8:c5:13:53:67' '6e:3b:bd:df:f8:55' 'c4:b9:e3:e3:39:94'\n",
      " 'f5:3d:dd:dd:04:77' '0e:6f:cf:28:62:c7']\n"
     ]
    }
   ],
   "source": [
    "# Unique Source Addresses\n",
    "print(\"Unique Source Addresses\")\n",
    "print(df['addr3'].unique())\n",
    "\n",
    "print()\n",
    "\n",
    "# Unique Destination Addresses\n",
    "print(\"Unique Destination Addresses\")\n",
    "print(df['addr1'].unique())"
   ]
  },
  {
   "cell_type": "markdown",
   "metadata": {},
   "source": [
    "# Graphing"
   ]
  },
  {
   "cell_type": "code",
   "execution_count": 189,
   "metadata": {
    "scrolled": false
   },
   "outputs": [
    {
     "name": "stdout",
     "output_type": "stream",
     "text": [
      "addr3\n",
      "0                        0.000000\n",
      "00:00:0c:07:ac:15    85115.066937\n",
      "00:00:0c:07:ac:95       41.346856\n",
      "00:00:0c:af:8c:00      962.304260\n",
      "00:00:ec:4f:ac:15      896.778905\n",
      "Name: SC, dtype: float64\n"
     ]
    },
    {
     "data": {
      "text/plain": [
       "<AxesSubplot:title={'center':'source Addresses (Bytes Received)'}, ylabel='addr3'>"
      ]
     },
     "execution_count": 189,
     "metadata": {},
     "output_type": "execute_result"
    },
    {
     "data": {
      "image/png": "[encoded data removed]",
      "text/plain": [
       "<Figure size 576x360 with 1 Axes>"
      ]
     },
     "metadata": {
      "needs_background": "light"
     },
     "output_type": "display_data"
    }
   ],
   "source": [
    "# Group by Source Address and Payload Sum\n",
    "source_addresses = (df.groupby(\"addr3\")['SC'].sum()/493*16).head()\n",
    "print(source_addresses)\n",
    "source_addresses.plot(kind='barh', title=\"source Addresses (Bytes Received)\",figsize=(8,5))"
   ]
  },
  {
   "cell_type": "code",
   "execution_count": 190,
   "metadata": {},
   "outputs": [
    {
     "name": "stdout",
     "output_type": "stream",
     "text": [
      "addr1\n",
      "e0:d4:64:85:4e:7c     889584\n",
      "ea:6d:39:a3:85:3a    6908864\n",
      "f4:43:5c:3c:37:94          0\n",
      "f5:3d:dd:dd:04:77      60519\n",
      "ff:ff:ff:ff:ff:ff    4335216\n",
      "Name: SC, dtype: int64\n"
     ]
    },
    {
     "data": {
      "text/plain": [
       "<AxesSubplot:title={'center':'Destination Addresses (Bytes Received)'}, ylabel='addr1'>"
      ]
     },
     "execution_count": 190,
     "metadata": {},
     "output_type": "execute_result"
    },
    {
     "data": {
      "image/png": "[encoded data removed]",
      "text/plain": [
       "<Figure size 576x360 with 1 Axes>"
      ]
     },
     "metadata": {
      "needs_background": "light"
     },
     "output_type": "display_data"
    }
   ],
   "source": [
    "# Group by Destination Address and Payload Sum\n",
    "destination_addresses = (df.groupby(\"addr1\")['SC'].sum()).tail()\n",
    "print(destination_addresses)\n",
    "destination_addresses.plot(kind='barh', title=\"Destination Addresses (Bytes Received)\",figsize=(8,5))"
   ]
  },
  {
   "cell_type": "code",
   "execution_count": 188,
   "metadata": {},
   "outputs": [
    {
     "data": {
      "text/plain": [
       "<AxesSubplot:title={'center':'Destination Addresses (Bytes Received)'}, ylabel='addr3'>"
      ]
     },
     "execution_count": 188,
     "metadata": {},
     "output_type": "execute_result"
    },
    {
     "data": {
      "image/png": "[encoded data removed]",
      "text/plain": [
       "<Figure size 576x360 with 1 Axes>"
      ]
     },
     "metadata": {
      "needs_background": "light"
     },
     "output_type": "display_data"
    }
   ],
   "source": [
    "dest_freq=df.groupby('addr3').describe()['SC']['count']\n",
    "dest_freq.plot(kind='barh', title=\"Destination Addresses (Bytes Received)\",figsize=(8,5))"
   ]
  },
  {
   "cell_type": "code",
   "execution_count": 192,
   "metadata": {
    "scrolled": true
   },
   "outputs": [
    {
     "data": {
      "text/plain": [
       "<AxesSubplot:title={'center':'Destination Addresses (Bytes Received)'}, ylabel='addr1'>"
      ]
     },
     "execution_count": 192,
     "metadata": {},
     "output_type": "execute_result"
    },
    {
     "data": {
      "image/png": "[encoded data removed]",
      "text/plain": [
       "<Figure size 576x360 with 1 Axes>"
      ]
     },
     "metadata": {
      "needs_background": "light"
     },
     "output_type": "display_data"
    }
   ],
   "source": [
    "dest_freq=df.groupby('addr1').describe()['ID']['count']\n",
    "dest_freq.plot(kind='barh', title=\"Destination Addresses (Bytes Received)\",figsize=(8,5))"
   ]
  },
  {
   "cell_type": "code",
   "execution_count": 206,
   "metadata": {},
   "outputs": [
    {
     "data": {
      "text/plain": [
       "Text(0.5, 1.0, 'History of bytes sent by most frequent address')"
      ]
     },
     "execution_count": 206,
     "metadata": {},
     "output_type": "execute_result"
    },
    {
     "data": {
      "image/png": "[encoded data removed]",
      "text/plain": [
       "<Figure size 432x288 with 1 Axes>"
      ]
     },
     "metadata": {
      "needs_background": "light"
     },
     "output_type": "display_data"
    }
   ],
   "source": [
    "#groupby(\"time\")['payload'].sum().plot(kind='barh',title=\"Destination Ports (Bytes Received)\",figsize=(8,5))\n",
    "\n",
    "frequent_address_df = df[df['addr3'] == frequent_address]\n",
    "x = frequent_address_df['fcs'].tolist()\n",
    "sns.barplot(x=\"addr1\", y=\"fcs\", data=frequent_address_df[['fcs','addr1']],\n",
    "            label=\"Total\", color=\"b\").set_title(\"History of bytes sent by most frequent address\")\n"
   ]
  },
  {
   "cell_type": "markdown",
   "metadata": {},
   "source": [
    "# Payload Investigation"
   ]
  }
 ],
 "metadata": {
  "kernelspec": {
   "display_name": "Python 3",
   "language": "python",
   "name": "python3"
  },
  "language_info": {
   "codemirror_mode": {
    "name": "ipython",
    "version": 3
   },
   "file_extension": ".py",
   "mimetype": "text/x-python",
   "name": "python",
   "nbconvert_exporter": "python",
   "pygments_lexer": "ipython3",
   "version": "3.8.8"
  }
 },
 "nbformat": 4,
 "nbformat_minor": 2
}
